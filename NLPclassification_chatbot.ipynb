{
  "nbformat": 4,
  "nbformat_minor": 0,
  "metadata": {
    "kernelspec": {
      "display_name": "Python 3",
      "language": "python",
      "name": "python3"
    },
    "language_info": {
      "codemirror_mode": {
        "name": "ipython",
        "version": 3
      },
      "file_extension": ".py",
      "mimetype": "text/x-python",
      "name": "python",
      "nbconvert_exporter": "python",
      "pygments_lexer": "ipython3",
      "version": "3.7.6"
    },
    "colab": {
      "name": "NLPclassification-chatbot.ipynb",
      "provenance": [],
      "include_colab_link": true
    }
  },
  "cells": [
    {
      "cell_type": "markdown",
      "metadata": {
        "id": "view-in-github",
        "colab_type": "text"
      },
      "source": [
        "<a href=\"https://colab.research.google.com/github/adrien50/NLPclassification-chatbot/blob/master/NLPclassification_chatbot.ipynb\" target=\"_parent\"><img src=\"https://colab.research.google.com/assets/colab-badge.svg\" alt=\"Open In Colab\"/></a>"
      ]
    },
    {
      "cell_type": "markdown",
      "metadata": {
        "id": "7bnz4jb5sLbA",
        "colab_type": "text"
      },
      "source": [
        "# Text classification using NLP / Core engine of a chat bot."
      ]
    },
    {
      "cell_type": "markdown",
      "metadata": {
        "id": "LpOQmj0AsLbE",
        "colab_type": "text"
      },
      "source": [
        "Human language is astoundingly complex and diverse. When we write, we often misspell or abbreviate words, or omit punctuation. There is a lot of unstructured data around us. Natural language processing helps computers communicate with humans in their own language and scales other language-related tasks. For example, NLP makes it possible for computers to read text, interpret it, measure sentiment and determine which parts are important. Understanding this will enable you to build the core component of any conversational chatbot. This is the core engine of a conversational chatbot"
      ]
    },
    {
      "cell_type": "markdown",
      "metadata": {
        "id": "i5jg6hVIsLbH",
        "colab_type": "text"
      },
      "source": [
        "Detecting patterns is a central part of Natural Language Processing. Words ending in -ed tend to be past tense verbs. Frequent use of will is indicative of news text (3). These observable patterns — word structure and word frequency — happen to correlate with particular aspects of meaning, such as tense and topic. But how did we know where to start looking, which aspects of form to associate with which aspects of meaning? In this series we shall learn to create the core engine of a chat bot. We will learn text classification using the techniques of natural language processing.\n",
        "\n"
      ]
    },
    {
      "cell_type": "code",
      "metadata": {
        "id": "DNHe1RKTsLbJ",
        "colab_type": "code",
        "colab": {}
      },
      "source": [
        ""
      ],
      "execution_count": null,
      "outputs": []
    },
    {
      "cell_type": "markdown",
      "metadata": {
        "id": "bHuImnLusLbT",
        "colab_type": "text"
      },
      "source": [
        "# Import useful libraries"
      ]
    },
    {
      "cell_type": "code",
      "metadata": {
        "id": "zZfv1vElsLbU",
        "colab_type": "code",
        "colab": {}
      },
      "source": [
        "import nltk"
      ],
      "execution_count": null,
      "outputs": []
    },
    {
      "cell_type": "code",
      "metadata": {
        "id": "_sVil8pWsLbe",
        "colab_type": "code",
        "colab": {
          "base_uri": "https://localhost:8080/",
          "height": 34
        },
        "outputId": "c7ab9ba6-3c59-4c7f-b600-6c9afad8e50e"
      },
      "source": [
        "!nltk.download_gui()"
      ],
      "execution_count": null,
      "outputs": [
        {
          "output_type": "stream",
          "text": [
            "/bin/bash: -c: line 1: syntax error: unexpected end of file\n"
          ],
          "name": "stdout"
        }
      ]
    },
    {
      "cell_type": "markdown",
      "metadata": {
        "id": "lHu_eeq9sLbs",
        "colab_type": "text"
      },
      "source": [
        "### Install NLTK components:\n",
        "    \n",
        "nltk.download_gui()\n",
        "\n",
        "#The above will open a GUI\n",
        "Select the below\n",
        "\n",
        "    stopwords from Corpa\n",
        "    averaged_perceptron_tagger from All corpus\n",
        "    wordnet\n",
        "    \n",
        "OR you can download all the nltk components by:\n",
        "    nltk.download()\n",
        "    \n",
        "Please Note: The above will take much time (30-60mins depending on Internet speed)"
      ]
    },
    {
      "cell_type": "code",
      "metadata": {
        "id": "6vhUfGXzsLbu",
        "colab_type": "code",
        "colab": {}
      },
      "source": [
        "import re\n",
        "import os\n",
        "import csv\n",
        "from nltk.stem.snowball import SnowballStemmer\n",
        "import random\n",
        "from nltk.classify import SklearnClassifier\n",
        "from nltk.tokenize import RegexpTokenizer\n",
        "from nltk.corpus import stopwords\n",
        "from nltk.stem.wordnet import WordNetLemmatizer\n",
        "import numpy as np\n",
        "import pandas as pd"
      ],
      "execution_count": null,
      "outputs": []
    },
    {
      "cell_type": "code",
      "metadata": {
        "id": "UZWr6II9sLb3",
        "colab_type": "code",
        "colab": {}
      },
      "source": [
        "## Get multiple outputs in the same cell\n",
        "from IPython.core.interactiveshell import InteractiveShell\n",
        "InteractiveShell.ast_node_interactivity = \"all\"\n",
        "\n",
        "## Ignore all warnings\n",
        "import warnings\n",
        "warnings.filterwarnings('ignore')\n",
        "warnings.filterwarnings(action='ignore', category=DeprecationWarning)"
      ],
      "execution_count": null,
      "outputs": []
    },
    {
      "cell_type": "code",
      "metadata": {
        "id": "sb5cjB-FsLcB",
        "colab_type": "code",
        "colab": {}
      },
      "source": [
        "## Display all rows and columns of a dataframe instead of a truncated version\n",
        "from IPython.display import display\n",
        "pd.set_option('display.max_columns', None)\n",
        "pd.set_option('display.max_rows', None)"
      ],
      "execution_count": null,
      "outputs": []
    },
    {
      "cell_type": "markdown",
      "metadata": {
        "id": "UQ-mNLc4sLcL",
        "colab_type": "text"
      },
      "source": [
        "## Preprocess"
      ]
    },
    {
      "cell_type": "code",
      "metadata": {
        "id": "htwJBST-sLcN",
        "colab_type": "code",
        "colab": {}
      },
      "source": [
        "sentence = \"The Big brown fox jumped over a lazy dog.\"\n",
        "sentence2 = \"This is particularly important in today's world where we are swamped with unstructured natural language data on the variety of social media platforms people engage in now-a-days (note -  now-a-days in the decade of 2010-2020)\""
      ],
      "execution_count": null,
      "outputs": []
    },
    {
      "cell_type": "code",
      "metadata": {
        "id": "MrJMllp-sLcV",
        "colab_type": "code",
        "colab": {
          "base_uri": "https://localhost:8080/",
          "height": 70
        },
        "outputId": "465fa26f-90a1-4136-e054-7866a1be41ae"
      },
      "source": [
        "#convert sentence to lower case\n",
        "'This' == 'this'\n",
        "print('AbcdEFgH'.lower())\n",
        "sentence.lower()\n",
        "sentence2.lower()"
      ],
      "execution_count": null,
      "outputs": [
        {
          "output_type": "execute_result",
          "data": {
            "text/plain": [
              "False"
            ]
          },
          "metadata": {
            "tags": []
          },
          "execution_count": 7
        },
        {
          "output_type": "stream",
          "text": [
            "abcdefgh\n"
          ],
          "name": "stdout"
        },
        {
          "output_type": "execute_result",
          "data": {
            "application/vnd.google.colaboratory.intrinsic+json": {
              "type": "string"
            },
            "text/plain": [
              "'the big brown fox jumped over a lazy dog.'"
            ]
          },
          "metadata": {
            "tags": []
          },
          "execution_count": 7
        },
        {
          "output_type": "execute_result",
          "data": {
            "application/vnd.google.colaboratory.intrinsic+json": {
              "type": "string"
            },
            "text/plain": [
              "\"this is particularly important in today's world where we are swamped with unstructured natural language data on the variety of social media platforms people engage in now-a-days (note -  now-a-days in the decade of 2010-2020)\""
            ]
          },
          "metadata": {
            "tags": []
          },
          "execution_count": 7
        }
      ]
    },
    {
      "cell_type": "markdown",
      "metadata": {
        "id": "Fjs8IbPOsLce",
        "colab_type": "text"
      },
      "source": [
        "### Tokenize - extract individual words"
      ]
    },
    {
      "cell_type": "code",
      "metadata": {
        "id": "H8EEl6CFsLcg",
        "colab_type": "code",
        "colab": {
          "base_uri": "https://localhost:8080/",
          "height": 697
        },
        "outputId": "421c6146-0edd-4332-ec85-b0b7b810ab5b"
      },
      "source": [
        "tokenizer = RegexpTokenizer(r'\\w+')\n",
        "tokens = tokenizer.tokenize(sentence)\n",
        "tokens\n",
        "tokens2 = tokenizer.tokenize(sentence2)\n",
        "tokens2"
      ],
      "execution_count": null,
      "outputs": [
        {
          "output_type": "execute_result",
          "data": {
            "text/plain": [
              "['The', 'Big', 'brown', 'fox', 'jumped', 'over', 'a', 'lazy', 'dog']"
            ]
          },
          "metadata": {
            "tags": []
          },
          "execution_count": 11
        },
        {
          "output_type": "execute_result",
          "data": {
            "text/plain": [
              "['This',\n",
              " 'is',\n",
              " 'particularly',\n",
              " 'important',\n",
              " 'in',\n",
              " 'today',\n",
              " 's',\n",
              " 'world',\n",
              " 'where',\n",
              " 'we',\n",
              " 'are',\n",
              " 'swamped',\n",
              " 'with',\n",
              " 'unstructured',\n",
              " 'natural',\n",
              " 'language',\n",
              " 'data',\n",
              " 'on',\n",
              " 'the',\n",
              " 'variety',\n",
              " 'of',\n",
              " 'social',\n",
              " 'media',\n",
              " 'platforms',\n",
              " 'people',\n",
              " 'engage',\n",
              " 'in',\n",
              " 'now',\n",
              " 'a',\n",
              " 'days',\n",
              " 'note',\n",
              " 'now',\n",
              " 'a',\n",
              " 'days',\n",
              " 'in',\n",
              " 'the',\n",
              " 'decade',\n",
              " 'of',\n",
              " '2010',\n",
              " '2020']"
            ]
          },
          "metadata": {
            "tags": []
          },
          "execution_count": 11
        }
      ]
    },
    {
      "cell_type": "markdown",
      "metadata": {
        "id": "4CO44_gjsLco",
        "colab_type": "text"
      },
      "source": [
        "### Stopwords : Filter words to remove non-useful words"
      ]
    },
    {
      "cell_type": "code",
      "metadata": {
        "id": "W4Rh7sw0sLcq",
        "colab_type": "code",
        "colab": {
          "base_uri": "https://localhost:8080/",
          "height": 68
        },
        "outputId": "42945fe0-fb1c-47bb-a70a-975973e39ba7"
      },
      "source": [
        "import nltk\n",
        "nltk.download('stopwords')\n",
        "filtered_words = [w for w in tokens if not w in stopwords.words('english')]\n",
        "filtered_words"
      ],
      "execution_count": null,
      "outputs": [
        {
          "output_type": "stream",
          "text": [
            "[nltk_data] Downloading package stopwords to /root/nltk_data...\n",
            "[nltk_data]   Unzipping corpora/stopwords.zip.\n"
          ],
          "name": "stdout"
        },
        {
          "output_type": "execute_result",
          "data": {
            "text/plain": [
              "True"
            ]
          },
          "metadata": {
            "tags": []
          },
          "execution_count": 13
        },
        {
          "output_type": "execute_result",
          "data": {
            "text/plain": [
              "['The', 'Big', 'brown', 'fox', 'jumped', 'lazy', 'dog']"
            ]
          },
          "metadata": {
            "tags": []
          },
          "execution_count": 13
        }
      ]
    },
    {
      "cell_type": "code",
      "metadata": {
        "id": "WIPrTRNIsLc1",
        "colab_type": "code",
        "colab": {
          "base_uri": "https://localhost:8080/",
          "height": 391
        },
        "outputId": "cf950cee-7464-4d5b-f84f-864c052c2c37"
      },
      "source": [
        "filtered_words = [w for w in tokens2 if not w in stopwords.words('english')]\n",
        "filtered_words"
      ],
      "execution_count": null,
      "outputs": [
        {
          "output_type": "execute_result",
          "data": {
            "text/plain": [
              "['This',\n",
              " 'particularly',\n",
              " 'important',\n",
              " 'today',\n",
              " 'world',\n",
              " 'swamped',\n",
              " 'unstructured',\n",
              " 'natural',\n",
              " 'language',\n",
              " 'data',\n",
              " 'variety',\n",
              " 'social',\n",
              " 'media',\n",
              " 'platforms',\n",
              " 'people',\n",
              " 'engage',\n",
              " 'days',\n",
              " 'note',\n",
              " 'days',\n",
              " 'decade',\n",
              " '2010',\n",
              " '2020']"
            ]
          },
          "metadata": {
            "tags": []
          },
          "execution_count": 14
        }
      ]
    },
    {
      "cell_type": "code",
      "metadata": {
        "id": "NH-gJVfHsLc9",
        "colab_type": "code",
        "colab": {}
      },
      "source": [
        "def preprocess(sentence):\n",
        "    sentence = sentence.lower()\n",
        "    tokenizer = RegexpTokenizer(r'\\w+')\n",
        "    tokens = tokenizer.tokenize(sentence)\n",
        "    filtered_words = [w for w in tokens if not w in stopwords.words('english')]\n",
        "    return filtered_words"
      ],
      "execution_count": null,
      "outputs": []
    },
    {
      "cell_type": "code",
      "metadata": {
        "id": "ToLRyX0esLdG",
        "colab_type": "code",
        "colab": {},
        "outputId": "1f112821-bb03-4f02-ba29-548eec24e58b"
      },
      "source": [
        "preprocessed_sentence = preprocess(sentence)\n",
        "print(preprocessed_sentence)"
      ],
      "execution_count": null,
      "outputs": [
        {
          "output_type": "stream",
          "text": [
            "['big', 'brown', 'fox', 'jumped', 'lazy', 'dog']\n"
          ],
          "name": "stdout"
        }
      ]
    },
    {
      "cell_type": "code",
      "metadata": {
        "id": "PbojJX64sLdQ",
        "colab_type": "code",
        "colab": {},
        "outputId": "22f4db33-eca4-4bd8-9526-aaac09021dc3"
      },
      "source": [
        "preprocess(sentence2)"
      ],
      "execution_count": null,
      "outputs": [
        {
          "output_type": "execute_result",
          "data": {
            "text/plain": [
              "['particularly',\n",
              " 'important',\n",
              " 'today',\n",
              " 'world',\n",
              " 'swamped',\n",
              " 'unstructured',\n",
              " 'natural',\n",
              " 'language',\n",
              " 'data',\n",
              " 'variety',\n",
              " 'social',\n",
              " 'media',\n",
              " 'platforms',\n",
              " 'people',\n",
              " 'engage',\n",
              " 'days',\n",
              " 'note',\n",
              " 'days',\n",
              " 'decade',\n",
              " '2010',\n",
              " '2020']"
            ]
          },
          "metadata": {
            "tags": []
          },
          "execution_count": 14
        }
      ]
    },
    {
      "cell_type": "markdown",
      "metadata": {
        "id": "fsqWR16lsLdd",
        "colab_type": "text"
      },
      "source": [
        "## Tagging"
      ]
    },
    {
      "cell_type": "code",
      "metadata": {
        "id": "rT_Lg5nnsLdf",
        "colab_type": "code",
        "colab": {},
        "outputId": "7110c6bc-9299-462c-e6f2-0f28d9d1f812"
      },
      "source": [
        "tags = nltk.pos_tag(preprocessed_sentence)\n",
        "print(tags)"
      ],
      "execution_count": null,
      "outputs": [
        {
          "output_type": "stream",
          "text": [
            "[('big', 'JJ'), ('brown', 'NN'), ('fox', 'NN'), ('jumped', 'VBD'), ('lazy', 'JJ'), ('dog', 'NN')]\n"
          ],
          "name": "stdout"
        }
      ]
    },
    {
      "cell_type": "code",
      "metadata": {
        "id": "hoPjT-s4sLdm",
        "colab_type": "code",
        "colab": {},
        "outputId": "da327187-2efe-4368-d311-31e0d61b6b7d"
      },
      "source": [
        "tags = nltk.pos_tag(preprocess(sentence2))\n",
        "print(tags)"
      ],
      "execution_count": null,
      "outputs": [
        {
          "output_type": "stream",
          "text": [
            "[('particularly', 'RB'), ('important', 'JJ'), ('today', 'NN'), ('world', 'NN'), ('swamped', 'VBD'), ('unstructured', 'JJ'), ('natural', 'JJ'), ('language', 'NN'), ('data', 'NNS'), ('variety', 'NN'), ('social', 'JJ'), ('media', 'NNS'), ('platforms', 'NNS'), ('people', 'NNS'), ('engage', 'VBP'), ('days', 'NNS'), ('note', 'VBP'), ('days', 'NNS'), ('decade', 'NN'), ('2010', 'CD'), ('2020', 'CD')]\n"
          ],
          "name": "stdout"
        }
      ]
    },
    {
      "cell_type": "markdown",
      "metadata": {
        "id": "ilmew5w4sLdv",
        "colab_type": "text"
      },
      "source": [
        "## Extracting only Nouns and Verb nouns"
      ]
    },
    {
      "cell_type": "markdown",
      "metadata": {
        "id": "noqdF9uDsLdw",
        "colab_type": "raw"
      },
      "source": [
        "POS tag list:\n",
        "\n",
        "CC coordinating conjunction\n",
        "CD cardinal digit\n",
        "DT determiner\n",
        "EX existential there (like: \"there is\" ... think of it like \"there exists\")\n",
        "FW foreign word\n",
        "IN preposition/subordinating conjunction\n",
        "JJ adjective 'big'\n",
        "JJR adjective, comparative 'bigger'\n",
        "JJS adjective, superlative 'biggest'\n",
        "LS list marker 1)\n",
        "MD modal could, will\n",
        "NN noun, singular 'desk'\n",
        "NNS noun plural 'desks'\n",
        "NNP proper noun, singular 'Harrison'\n",
        "NNPS proper noun, plural 'Americans'\n",
        "PDT predeterminer 'all the kids'\n",
        "POS possessive ending parent's\n",
        "PRP personal pronoun I, he, she\n",
        "PRP$ possessive pronoun my, his, hers\n",
        "RB adverb very, silently,\n",
        "RBR adverb, comparative better\n",
        "RBS adverb, superlative best\n",
        "RP particle give up\n",
        "TO to go 'to' the store.\n",
        "UH interjection errrrrrrrm\n",
        "VB verb, base form take\n",
        "VBD verb, past tense took\n",
        "VBG verb, gerund/present participle taking\n",
        "VBN verb, past participle taken\n",
        "VBP verb, sing. present, non-3d take\n",
        "VBZ verb, 3rd person sing. present takes\n",
        "WDT wh-determiner which\n",
        "WP wh-pronoun who, what\n",
        "WP$ possessive wh-pronoun whose\n",
        "WRB wh-abverb where, when"
      ]
    },
    {
      "cell_type": "code",
      "metadata": {
        "id": "G623pNC-sLdx",
        "colab_type": "code",
        "colab": {}
      },
      "source": [
        "def extract_tagged(sentences):\n",
        "    features = []\n",
        "    for tagged_word in sentences:\n",
        "        word, tag = tagged_word\n",
        "        if tag=='NN' or tag == 'VBN' or tag == 'NNS' or tag == 'VBP' or tag == 'RB' or tag == 'VBZ' or tag == 'VBG' or tag =='PRP' or tag == 'JJ':\n",
        "            features.append(word)\n",
        "    return features"
      ],
      "execution_count": null,
      "outputs": []
    },
    {
      "cell_type": "code",
      "metadata": {
        "id": "wN4LPSQhsLd5",
        "colab_type": "code",
        "colab": {},
        "outputId": "2b86ee50-4376-4c2d-a733-13e653f53e8d"
      },
      "source": [
        "extract_tagged(tags)"
      ],
      "execution_count": null,
      "outputs": [
        {
          "output_type": "execute_result",
          "data": {
            "text/plain": [
              "['particularly',\n",
              " 'important',\n",
              " 'today',\n",
              " 'world',\n",
              " 'unstructured',\n",
              " 'natural',\n",
              " 'language',\n",
              " 'data',\n",
              " 'variety',\n",
              " 'social',\n",
              " 'media',\n",
              " 'platforms',\n",
              " 'people',\n",
              " 'engage',\n",
              " 'days',\n",
              " 'note',\n",
              " 'days',\n",
              " 'decade']"
            ]
          },
          "metadata": {
            "tags": []
          },
          "execution_count": 18
        }
      ]
    },
    {
      "cell_type": "markdown",
      "metadata": {
        "id": "d64CdYmfsLeI",
        "colab_type": "text"
      },
      "source": [
        "## Lemmatize words"
      ]
    },
    {
      "cell_type": "code",
      "metadata": {
        "id": "jKkJfDCNsLeK",
        "colab_type": "code",
        "colab": {},
        "outputId": "50b5618f-7a92-4145-a621-6a888f650874"
      },
      "source": [
        "lmtzr = WordNetLemmatizer()\n",
        "print(lmtzr.lemmatize('cacti'))\n",
        "print(lmtzr.lemmatize('willing'))\n",
        "print(lmtzr.lemmatize('feet'))\n",
        "print(lmtzr.lemmatize('stemmed'))\n",
        "\n",
        "print(lmtzr.lemmatize('cactus'))"
      ],
      "execution_count": null,
      "outputs": [
        {
          "output_type": "stream",
          "text": [
            "cactus\n",
            "willing\n",
            "foot\n",
            "stemmed\n",
            "cactus\n"
          ],
          "name": "stdout"
        }
      ]
    },
    {
      "cell_type": "code",
      "metadata": {
        "id": "PkvYRyEtsLeT",
        "colab_type": "code",
        "colab": {}
      },
      "source": [
        ""
      ],
      "execution_count": null,
      "outputs": []
    },
    {
      "cell_type": "code",
      "metadata": {
        "id": "cXDcLdoHsLea",
        "colab_type": "code",
        "colab": {}
      },
      "source": [
        ""
      ],
      "execution_count": null,
      "outputs": []
    },
    {
      "cell_type": "markdown",
      "metadata": {
        "id": "P5hKd0PdsLej",
        "colab_type": "text"
      },
      "source": [
        "## Stem words"
      ]
    },
    {
      "cell_type": "code",
      "metadata": {
        "id": "rh4rr5h6sLek",
        "colab_type": "code",
        "colab": {}
      },
      "source": [
        "words_for_stemming = ['stem', 'stemming', 'stemmed', 'stemmer', 'stems','feet','willing']"
      ],
      "execution_count": null,
      "outputs": []
    },
    {
      "cell_type": "code",
      "metadata": {
        "id": "LXKYkfLIsLer",
        "colab_type": "code",
        "colab": {},
        "outputId": "c6ce7c0e-3ca9-4d67-8d0c-c1b8e62bc662"
      },
      "source": [
        "stemmer = SnowballStemmer(\"english\")\n",
        "[stemmer.stem(x) for x in words_for_stemming]"
      ],
      "execution_count": null,
      "outputs": [
        {
          "output_type": "execute_result",
          "data": {
            "text/plain": [
              "['stem', 'stem', 'stem', 'stemmer', 'stem', 'feet', 'will']"
            ]
          },
          "metadata": {
            "tags": []
          },
          "execution_count": 22
        }
      ]
    },
    {
      "cell_type": "markdown",
      "metadata": {
        "id": "9Skg8edCsLe1",
        "colab_type": "text"
      },
      "source": [
        "## Putting it all together"
      ]
    },
    {
      "cell_type": "code",
      "metadata": {
        "id": "0OnQnXfQsLe2",
        "colab_type": "code",
        "colab": {}
      },
      "source": [
        "def extract_feature(text):\n",
        "    words = preprocess(text)\n",
        "#     print('words: ',words)\n",
        "    tags = nltk.pos_tag(words)\n",
        "#     print('tags: ',tags)\n",
        "    extracted_features = extract_tagged(tags)\n",
        "#     print('Extracted features: ',extracted_features)\n",
        "    stemmed_words = [stemmer.stem(x) for x in extracted_features]\n",
        "#     print(stemmed_words)\n",
        "\n",
        "    result = [lmtzr.lemmatize(x) for x in stemmed_words]\n",
        "   \n",
        "    return result"
      ],
      "execution_count": null,
      "outputs": []
    },
    {
      "cell_type": "code",
      "metadata": {
        "id": "YJkNfTRSsLe-",
        "colab_type": "code",
        "colab": {},
        "outputId": "25be9e49-e952-4236-b951-2cdbc20d3956"
      },
      "source": [
        "sentence"
      ],
      "execution_count": null,
      "outputs": [
        {
          "output_type": "execute_result",
          "data": {
            "text/plain": [
              "'The Big brown fox jumped over a lazy dog.'"
            ]
          },
          "metadata": {
            "tags": []
          },
          "execution_count": 24
        }
      ]
    },
    {
      "cell_type": "code",
      "metadata": {
        "id": "zASM7wcrsLfG",
        "colab_type": "code",
        "colab": {},
        "outputId": "17460703-b689-44bb-e0be-7d6960e5c1d6"
      },
      "source": [
        "words = extract_feature(sentence)\n",
        "print(words)"
      ],
      "execution_count": null,
      "outputs": [
        {
          "output_type": "stream",
          "text": [
            "['big', 'brown', 'fox', 'lazi', 'dog']\n"
          ],
          "name": "stdout"
        }
      ]
    },
    {
      "cell_type": "code",
      "metadata": {
        "id": "nirqK7BjsLfM",
        "colab_type": "code",
        "colab": {},
        "outputId": "b1ee71d8-9d49-439c-f49e-f0eab0a3fb47"
      },
      "source": [
        "words = extract_feature(sentence2)\n",
        "print(words)"
      ],
      "execution_count": null,
      "outputs": [
        {
          "output_type": "stream",
          "text": [
            "['particular', 'import', 'today', 'world', 'unstructur', 'natur', 'languag', 'data', 'varieti', 'social', 'medium', 'platform', 'peopl', 'engag', 'day', 'note', 'day', 'decad']\n"
          ],
          "name": "stdout"
        }
      ]
    },
    {
      "cell_type": "code",
      "metadata": {
        "id": "NfN7qDWjsLfU",
        "colab_type": "code",
        "colab": {},
        "outputId": "f55da62f-d0b6-4186-c9fb-a1db12becf5b"
      },
      "source": [
        "extract_feature(\"He hurt his right foot while he was wearing white shoes on his feet\")"
      ],
      "execution_count": null,
      "outputs": [
        {
          "output_type": "stream",
          "text": [
            "words:  ['hurt', 'right', 'foot', 'wearing', 'white', 'shoes', 'feet']\n",
            "tags:  [('hurt', 'NN'), ('right', 'JJ'), ('foot', 'NN'), ('wearing', 'VBG'), ('white', 'JJ'), ('shoes', 'NNS'), ('feet', 'NNS')]\n",
            "Extracted features:  ['hurt', 'right', 'foot', 'wearing', 'white', 'shoes', 'feet']\n",
            "['hurt', 'right', 'foot', 'wear', 'white', 'shoe', 'feet']\n"
          ],
          "name": "stdout"
        },
        {
          "output_type": "execute_result",
          "data": {
            "text/plain": [
              "['hurt', 'right', 'foot', 'wear', 'white', 'shoe', 'foot']"
            ]
          },
          "metadata": {
            "tags": []
          },
          "execution_count": 29
        }
      ]
    },
    {
      "cell_type": "markdown",
      "metadata": {
        "id": "zpJg4GodsLfd",
        "colab_type": "text"
      },
      "source": [
        "## Implementing bag of words"
      ]
    },
    {
      "cell_type": "markdown",
      "metadata": {
        "id": "J8fJ6zPVsLfe",
        "colab_type": "text"
      },
      "source": [
        "In simple terms, it’s a collection of words to represent a sentence, disregarding the order in which they appear."
      ]
    },
    {
      "cell_type": "code",
      "metadata": {
        "id": "pEG78dZIsLfg",
        "colab_type": "code",
        "colab": {}
      },
      "source": [
        "def word_feats(words):\n",
        "    return dict([(word, True) for word in words])"
      ],
      "execution_count": null,
      "outputs": []
    },
    {
      "cell_type": "code",
      "metadata": {
        "id": "j1zfDfknsLfn",
        "colab_type": "code",
        "colab": {},
        "outputId": "14368617-0e5e-4b06-d5b2-d0cc33c9ef83"
      },
      "source": [
        "word_feats(words)"
      ],
      "execution_count": null,
      "outputs": [
        {
          "output_type": "execute_result",
          "data": {
            "text/plain": [
              "{'particular': True,\n",
              " 'import': True,\n",
              " 'today': True,\n",
              " 'world': True,\n",
              " 'unstructur': True,\n",
              " 'natur': True,\n",
              " 'languag': True,\n",
              " 'data': True,\n",
              " 'varieti': True,\n",
              " 'social': True,\n",
              " 'medium': True,\n",
              " 'platform': True,\n",
              " 'peopl': True,\n",
              " 'engag': True,\n",
              " 'day': True,\n",
              " 'note': True,\n",
              " 'decad': True}"
            ]
          },
          "metadata": {
            "tags": []
          },
          "execution_count": 33
        }
      ]
    },
    {
      "cell_type": "markdown",
      "metadata": {
        "id": "khaE1qyZsLfu",
        "colab_type": "text"
      },
      "source": [
        "## Parsing the whole document"
      ]
    },
    {
      "cell_type": "code",
      "metadata": {
        "id": "uxaZoj-bsLfv",
        "colab_type": "code",
        "colab": {}
      },
      "source": [
        "def extract_feature_from_doc(data):\n",
        "    result = []\n",
        "    corpus = []\n",
        "    # The responses of the chat bot\n",
        "    answers = {}\n",
        "    for (text,category,answer) in data:\n",
        "\n",
        "        features = extract_feature(text)\n",
        "\n",
        "        corpus.append(features)\n",
        "        result.append((word_feats(features), category))\n",
        "        answers[category] = answer\n",
        "\n",
        "    return (result, sum(corpus,[]), answers)"
      ],
      "execution_count": null,
      "outputs": []
    },
    {
      "cell_type": "code",
      "metadata": {
        "id": "ccW1psMqsLf3",
        "colab_type": "code",
        "colab": {},
        "outputId": "6c91728c-0d4c-48af-e2d5-22f92e4a4233"
      },
      "source": [
        "extract_feature_from_doc([['this is the input text from the user','category','answer to give']])"
      ],
      "execution_count": null,
      "outputs": [
        {
          "output_type": "execute_result",
          "data": {
            "text/plain": [
              "([({'input': True, 'user': True}, 'category')],\n",
              " ['input', 'user'],\n",
              " {'category': 'answer to give'})"
            ]
          },
          "metadata": {
            "tags": []
          },
          "execution_count": 36
        }
      ]
    },
    {
      "cell_type": "code",
      "metadata": {
        "id": "o9pZDA-xsLf_",
        "colab_type": "code",
        "colab": {}
      },
      "source": [
        "def get_content(filename):\n",
        "    doc = os.path.join(filename)\n",
        "    with open(doc, 'r') as content_file:\n",
        "        lines = csv.reader(content_file,delimiter='|')\n",
        "        data = [x for x in lines if len(x) == 3]\n",
        "        return data"
      ],
      "execution_count": null,
      "outputs": []
    },
    {
      "cell_type": "code",
      "metadata": {
        "id": "ycDs1ItqsLgH",
        "colab_type": "code",
        "colab": {}
      },
      "source": [
        "filename = '/Users/shraddhasurana/Desktop/projects/leaves.txt'\n",
        "data = get_content(filename)"
      ],
      "execution_count": null,
      "outputs": []
    },
    {
      "cell_type": "code",
      "metadata": {
        "id": "9grevbTSsLgN",
        "colab_type": "code",
        "colab": {},
        "outputId": "6863afbd-1ea5-401f-a069-033ccb4157a8"
      },
      "source": [
        "data"
      ],
      "execution_count": null,
      "outputs": [
        {
          "output_type": "execute_result",
          "data": {
            "text/plain": [
              "[['Hello',\n",
              "  'Greetings',\n",
              "  'Hello. I am Dexter. I will serve your leave enquiries.'],\n",
              " ['hi hello',\n",
              "  'Greetings',\n",
              "  'Hello. I am Dexter. I will serve your leave enquiries.'],\n",
              " ['hi ',\n",
              "  'Greetings',\n",
              "  'Hello. I am Dexter. I will serve your leave enquiries.'],\n",
              " ['hi', 'Greetings', 'Hello. I am Dexter. I will serve your leave enquiries.'],\n",
              " ['hi', 'Greetings', 'Hello. I am Dexter. I will serve your leave enquiries.'],\n",
              " ['hey',\n",
              "  'Greetings',\n",
              "  'Hello. I am Dexter. I will serve your leave enquiries.'],\n",
              " ['hello, hi',\n",
              "  'Greetings',\n",
              "  'Hello. I am Dexter. I will serve your leave enquiries.'],\n",
              " ['hey',\n",
              "  'Greetings',\n",
              "  'Hello. I am Dexter. I will serve your leave enquiries.'],\n",
              " ['hey, hi',\n",
              "  'Greetings',\n",
              "  'Hello. I am Dexter. I will serve your leave enquiries.'],\n",
              " ['hey, hello',\n",
              "  'Greetings',\n",
              "  'Hello. I am Dexter. I will serve your leave enquiries.'],\n",
              " ['Good morning',\n",
              "  'Morning',\n",
              "  'Good Morning. I am Dexter. I will serve your leave enquiries.'],\n",
              " ['Good afternoon',\n",
              "  'Afternoon',\n",
              "  'Good afternoon. I am Dexter. I will serve your leave enquiries.'],\n",
              " ['Good evening',\n",
              "  'Evening',\n",
              "  'Good evening. I am Dexter. I will serve your leave enquiries.'],\n",
              " ['Good night', 'Goodbye', 'Good night. Take care.'],\n",
              " ['How are you today?', 'Opening', \"I'm fine! Thank you. How can I help you?\"],\n",
              " ['want help', 'Help', 'How can I help you?'],\n",
              " ['need help', 'Help', 'How can I help you?'],\n",
              " ['help me', 'Help', 'How can I help you?'],\n",
              " [\"I don't want your help.\",\n",
              "  'No-Help',\n",
              "  'Ok sir/madam. No problem. Have a nice day.'],\n",
              " [\"I don't want your assistance\",\n",
              "  'No-Help',\n",
              "  'Ok sir/madam. No problem. Have a nice day.'],\n",
              " ['No help required', 'No-Help', 'Ok sir/madam. No problem. Have a nice day.'],\n",
              " ['It has been great talking to you.',\n",
              "  'Closing',\n",
              "  \"It's glad to know that I have been helpful. Have a good day!\"],\n",
              " ['great',\n",
              "  'Closing',\n",
              "  \"It's glad to know that I have been helpful. Have a good day!\"],\n",
              " ['thank you for your help',\n",
              "  'Closing',\n",
              "  \"It's glad to know that I have been helpful. Have a good day!\"],\n",
              " ['thank you',\n",
              "  'Closing',\n",
              "  \"It's glad to know that I have been helpful. Have a good day!\"],\n",
              " ['thank you very much',\n",
              "  'Closing',\n",
              "  \"It's glad to know that I have been helpful. Have a good day!\"],\n",
              " ['thanks.',\n",
              "  'Closing',\n",
              "  \"You're welcome!It's glad to know that I have been helpful. Have a good day!\"],\n",
              " ['thanks very much',\n",
              "  'Closing',\n",
              "  \"It's glad to know that I have been helpful. Have a good day!\"],\n",
              " ['How many types of leaves are there?',\n",
              "  'Leaves-Type',\n",
              "  'Currently I know about two: annual and optional leaves.'],\n",
              " ['types of leaves?',\n",
              "  'Leaves-Type',\n",
              "  'Currently I know about two: annual and optional leaves.'],\n",
              " ['type leaves?',\n",
              "  'Leaves-Type',\n",
              "  'Currently I know about two: annual and optional leaves.'],\n",
              " ['leave type?',\n",
              "  'Leaves-Type',\n",
              "  'Currently I know about two: annual and optional leaves.'],\n",
              " ['leaves type?',\n",
              "  'Leaves-Type',\n",
              "  'Currently I know about two: annual and optional leaves.'],\n",
              " ['How many leaves have I taken?',\n",
              "  'Default-Utilized-Annual-Leaves',\n",
              "  'You have used 12 annual leaves.'],\n",
              " ['How many leaves I have already taken?',\n",
              "  'Default-Utilized-Annual-Leaves',\n",
              "  'You have used 12 annual leaves.'],\n",
              " ['how many annual leaves I took?',\n",
              "  'Utilized-Annual-Leaves',\n",
              "  'You have taken 12 annual leaves.'],\n",
              " ['How many annual leaves have I taken?',\n",
              "  'Utilized-Annual-Leaves',\n",
              "  'You have taken 12 annual leaves.'],\n",
              " ['How many annual leaves I have already taken?',\n",
              "  'Utilized-Annual-Leaves',\n",
              "  'You have taken 12 annual leaves.'],\n",
              " ['Tell me the annual leaves count I have taken?',\n",
              "  'Utilized-Annual-Leaves',\n",
              "  'You have taken 12 annual leaves.'],\n",
              " ['How many annual leaves have I taken?',\n",
              "  'Utilized-Annual-Leaves',\n",
              "  'You have taken 12 annual leaves.'],\n",
              " ['number of annual leaves taken?',\n",
              "  'Utilized-Annual-Leaves',\n",
              "  'You have taken 12 annual leaves.'],\n",
              " ['annual leaves taken?',\n",
              "  'Utilized-Annual-Leaves',\n",
              "  'You have taken 12 annual leaves.'],\n",
              " ['number of annual leaves already taken?',\n",
              "  'Utilized-Annual-Leaves',\n",
              "  'You have taken 12 annual leaves.'],\n",
              " ['annual leaves taken?',\n",
              "  'Utilized-Annual-Leaves',\n",
              "  'You have taken 12 annual leaves.'],\n",
              " ['annual leaves already taken?',\n",
              "  'Utilized-Annual-Leaves',\n",
              "  'You have taken 12 annual leaves.'],\n",
              " ['Tell me number of annual leaves I have taken',\n",
              "  'Utilized-Annual-Leaves',\n",
              "  'You have taken 12 annual leaves.'],\n",
              " ['number of annual leaves used?',\n",
              "  'Utilized-Annual-Leaves',\n",
              "  'You have taken 12 annual leaves.'],\n",
              " ['my taken annual leaves',\n",
              "  'Utilized-Annual-Leaves',\n",
              "  'You have taken 12 annual leaves.'],\n",
              " ['annual leaves used?',\n",
              "  'Utilized-Annual-Leaves',\n",
              "  'You have taken 12 annual leaves.'],\n",
              " ['How many optional leaves have I taken',\n",
              "  'Utilized-Optional-Leaves',\n",
              "  'You have taken 1 optional leaves.'],\n",
              " ['How many optional leaves I took',\n",
              "  'Utilized-Optional-Leaves',\n",
              "  'You have taken 1 optional leaves.'],\n",
              " ['optional leaves taken',\n",
              "  'Utilized-Optional-Leaves',\n",
              "  'You have taken 1 optional leaves.'],\n",
              " ['number of optional leaves I have taken?',\n",
              "  'Utilized-Optional-Leaves',\n",
              "  'You have taken 1 optional leaves.'],\n",
              " ['tell me the optional leaves count I have taken',\n",
              "  'Utilized-Optional-Leaves',\n",
              "  'You have taken 1 optional leaves.'],\n",
              " ['tell me number of optional leaves I have taken',\n",
              "  'Utilized-Optional-Leaves',\n",
              "  'You have taken 1 optional leaves.'],\n",
              " ['can you tell me number of optional leaves I have taken',\n",
              "  'Utilized-Optional-Leaves',\n",
              "  'You have taken 1 optional leaves.'],\n",
              " ['please tell me number of optional leaves I have taken',\n",
              "  'Utilized-Optional-Leaves',\n",
              "  'You have taken 1 optional leaves.'],\n",
              " ['How many optional leaves have I taken?',\n",
              "  'Utilized-Optional-Leaves',\n",
              "  'You have taken 1 optional leaves.'],\n",
              " ['number of optional leaves taken?',\n",
              "  'Utilized-Optional-Leaves',\n",
              "  'You have taken 1 optional leaves.'],\n",
              " ['number of optional leaves already taken?',\n",
              "  'Utilized-Optional-Leaves',\n",
              "  'You have taken 1 optional leaves.'],\n",
              " ['optional leaves taken?',\n",
              "  'Utilized-Optional-Leaves',\n",
              "  'You have taken 1 optional leaves.'],\n",
              " ['optional leaves already taken?',\n",
              "  'Utilized-Optional-Leaves',\n",
              "  'You have taken 1 optional leaves.'],\n",
              " ['please tell me number of optional leaves I have used.',\n",
              "  'Utilized-Optional-Leaves',\n",
              "  'You have taken 1 optional leaves.'],\n",
              " ['please tell me number of optional leaves I have used',\n",
              "  'Utilized-Optional-Leaves',\n",
              "  'You have taken 1 optional leaves.'],\n",
              " ['tell me the optional leaves count I have used.',\n",
              "  'Utilized-Optional-Leaves',\n",
              "  'You have taken 1 optional leaves.'],\n",
              " ['tell me the optional leaves count I have used',\n",
              "  'Utilized-Optional-Leaves',\n",
              "  'You have taken 1 optional leaves.'],\n",
              " ['the optional leaves count I have used',\n",
              "  'Utilized-Optional-Leaves',\n",
              "  'You have taken 1 optional leaves.'],\n",
              " ['the optional leaves count I have used?',\n",
              "  'Utilized-Optional-Leaves',\n",
              "  'You have taken 1 optional leaves.'],\n",
              " ['tell me the optional leaves count I have taken',\n",
              "  'Utilized-Optional-Leaves',\n",
              "  'You have taken 1 optional leaves.'],\n",
              " ['tell me the optional leaves count I have taken',\n",
              "  'Utilized-Optional-Leaves',\n",
              "  'You have taken 1 optional leaves.'],\n",
              " ['tell me the optional leaves count I have taken',\n",
              "  'Utilized-Optional-Leaves',\n",
              "  'You have taken 1 optional leaves.'],\n",
              " ['How many optional leaves have I used',\n",
              "  'Utilized-Optional-Leaves',\n",
              "  'You have taken 1 optional leaves.'],\n",
              " ['How many optional leaves have I used?',\n",
              "  'Utilized-Optional-Leaves',\n",
              "  'You have taken 1 optional leaves.'],\n",
              " ['number of optional leaves used?',\n",
              "  'Utilized-Optional-Leaves',\n",
              "  'You have taken 1 optional leaves.'],\n",
              " ['optional leaves used?',\n",
              "  'Utilized-Optional-Leaves',\n",
              "  'You have taken 1 optional leaves.'],\n",
              " ['How many leaves do I have?',\n",
              "  'Default-Balance-Annual-Leaves',\n",
              "  'You have 25 annual leaves left.'],\n",
              " ['How many leaves can I take?',\n",
              "  'Default-Balance-Annual-Leaves',\n",
              "  'You have 25 annual leaves left.'],\n",
              " ['How many leaves are remaining?',\n",
              "  'Default-Balance-Annual-Leaves',\n",
              "  'You have 25 annual leaves left.'],\n",
              " ['remaining leaves.',\n",
              "  'Default-Balance-Annual-Leaves',\n",
              "  'You have 25 annual leaves left.'],\n",
              " ['What are my leaves?',\n",
              "  'Default-Balance-Annual-Leaves',\n",
              "  'You have 25 annual leaves left.'],\n",
              " ['Tell me my leave balance.',\n",
              "  'Default-Balance-Annual-Leaves',\n",
              "  'You have 25 annual leaves left.'],\n",
              " ['my remaining leaves.',\n",
              "  'Default-Balance-Annual-Leaves',\n",
              "  'You have 25 annual leaves left.'],\n",
              " ['leave balance.',\n",
              "  'Default-Balance-Annual-Leaves',\n",
              "  'You have 25 annual leaves left.'],\n",
              " ['leaves pending.',\n",
              "  'Default-Balance-Annual-Leaves',\n",
              "  'You have 25 annual leaves left.'],\n",
              " ['tell me the annual leaves count I have remaining',\n",
              "  'Balance-Annual-Leaves',\n",
              "  'You have 25 annual leaves remaining.'],\n",
              " ['How many annual leaves do I have?',\n",
              "  'Balance-Annual-Leaves',\n",
              "  'You have 25 annual leaves remaining.'],\n",
              " ['What are my annual leaves?',\n",
              "  'Balance-Annual-Leaves',\n",
              "  'You have 25 annual leaves remaining.'],\n",
              " ['What is my annual leave balance?',\n",
              "  'Balance-Annual-Leaves',\n",
              "  'You have 25 annual leaves remaining.'],\n",
              " ['Tell me my annual leaves.',\n",
              "  'Balance-Annual-Leaves',\n",
              "  'You have 25 annual leaves remaining.'],\n",
              " ['How many annual leaves are remaining?',\n",
              "  'Balance-Annual-Leaves',\n",
              "  'You have 25 annual leaves remaining.'],\n",
              " ['Tell me my annual leaves remaining',\n",
              "  'Balance-Annual-Leaves',\n",
              "  'You have 25 annual leaves remaining.'],\n",
              " ['remaining annual leaves.',\n",
              "  'Balance-Annual-Leaves',\n",
              "  'You have 25 annual leaves remaining.'],\n",
              " ['annual leaves remaining.',\n",
              "  'Balance-Annual-Leaves',\n",
              "  'You have 25 annual leaves remaining.'],\n",
              " ['number of annual leaves remaining.',\n",
              "  'Balance-Annual-Leaves',\n",
              "  'You have 25 annual leaves remaining.'],\n",
              " ['number of annual leaves I have?',\n",
              "  'Balance-Annual-Leaves',\n",
              "  'You have 25 annual leaves remaining.'],\n",
              " ['annual leaves remaining.',\n",
              "  'Balance-Annual-Leaves',\n",
              "  'You have 25 annual leaves remaining.'],\n",
              " ['Please tell me the annual leaves count I have remaining.',\n",
              "  'Balance-Annual-Leaves',\n",
              "  'You have 25 annual leaves remaining.'],\n",
              " ['Tell me the annual leaves count I have remaining.',\n",
              "  'Balance-Annual-Leaves',\n",
              "  'You have 25 annual leaves remaining.'],\n",
              " ['the annual leaves count I have remaining.',\n",
              "  'Balance-Annual-Leaves',\n",
              "  'You have 25 annual leaves remaining.'],\n",
              " ['my annual leaves count remaining.',\n",
              "  'Balance-Annual-Leaves',\n",
              "  'You have 25 annual leaves remaining.'],\n",
              " ['Tell me my annual leave balance.',\n",
              "  'Balance-Annual-Leaves',\n",
              "  'You have 25 annual leaves remaining.'],\n",
              " ['annual leave balance.',\n",
              "  'Balance-Annual-Leaves',\n",
              "  'You have 25 annual leaves remaining.'],\n",
              " ['annual leaves.',\n",
              "  'Balance-Annual-Leaves',\n",
              "  'You have 25 annual leaves remaining.'],\n",
              " ['can you tell me number of annual leaves I have remaining',\n",
              "  'Balance-Annual-Leaves',\n",
              "  'You have 25 annual leaves remaining.'],\n",
              " ['please tell me number of annual leaves I have remaining',\n",
              "  'Balance-Annual-Leaves',\n",
              "  'You have 25 annual leaves remaining.'],\n",
              " ['How many optional leaves are remaining?',\n",
              "  'Balance-Optional-Leaves',\n",
              "  'You have 2 optional leaves remaining.'],\n",
              " ['optional leaves remaining?',\n",
              "  'Balance-Optional-Leaves',\n",
              "  'You have 2 optional leaves remaining.'],\n",
              " ['number of optional leaves I have remaining?',\n",
              "  'Balance-Optional-Leaves',\n",
              "  'You have 2 optional leaves remaining.'],\n",
              " ['How many optional leaves do I have?',\n",
              "  'Balance-Optional-Leaves',\n",
              "  'You have 2 optional leaves remaining.'],\n",
              " ['How many optional leaves do I have',\n",
              "  'Balance-Optional-Leaves',\n",
              "  'You have 2 optional leaves remaining.'],\n",
              " ['Tell me my optional leave balance?',\n",
              "  'Balance-Optional-Leaves',\n",
              "  'You have 2 optional leaves remaining.'],\n",
              " ['Tell me my optional leaves left?',\n",
              "  'Balance-Optional-Leaves',\n",
              "  'You have 2 optional leaves remaining.'],\n",
              " ['How many optional leaves can I take?',\n",
              "  'Balance-Optional-Leaves',\n",
              "  'You have 2 optional leaves remaining.'],\n",
              " ['optional leaves take?',\n",
              "  'Balance-Optional-Leaves',\n",
              "  'You have 2 optional leaves remaining.'],\n",
              " ['How many optional leaves I have?',\n",
              "  'Balance-Optional-Leaves',\n",
              "  'You have 2 optional leaves remaining.'],\n",
              " ['Tell me my optional leave balance.',\n",
              "  'Balance-Optional-Leaves',\n",
              "  'You have 2 optional leaves remaining.'],\n",
              " ['tell me the optional leaves count I have remaining',\n",
              "  'Balance-Optional-Leaves',\n",
              "  'You have 2 optional leaves remaining.'],\n",
              " ['optional leaves.',\n",
              "  'Balance-Optional-Leaves',\n",
              "  'You have 2 optional leaves remaining.'],\n",
              " ['optional leaves?',\n",
              "  'Balance-Optional-Leaves',\n",
              "  'You have 2 optional leaves remaining.'],\n",
              " ['optional leave balance',\n",
              "  'Balance-Optional-Leaves',\n",
              "  'You have 2 optional leaves remaining.'],\n",
              " ['optional',\n",
              "  'Balance-Optional-Leaves',\n",
              "  'You have 2 optional leaves remaining.'],\n",
              " ['Tell me the optional leaves count I have remaining.',\n",
              "  'Balance-Optional-Leaves',\n",
              "  'You have 2 optional leaves remaining.'],\n",
              " ['the optional leaves count I have remaining?',\n",
              "  'Balance-Optional-Leaves',\n",
              "  'You have 2 optional leaves remaining.'],\n",
              " ['my optional leaves count remaining.',\n",
              "  'Balance-Optional-Leaves',\n",
              "  'You have 2 optional leaves remaining.'],\n",
              " ['please tell me number of optional leaves I have remaining',\n",
              "  'Balance-Optional-Leaves',\n",
              "  'You have 2 optional leaves remaining.'],\n",
              " ['please tell me number of optional leaves I have remaining.',\n",
              "  'Balance-Optional-Leaves',\n",
              "  'You have 2 optional leaves remaining.'],\n",
              " ['number of optional leaves I have remaining.',\n",
              "  'Balance-Optional-Leaves',\n",
              "  'You have 2 optional leaves remaining.'],\n",
              " ['number of optional leaves I have',\n",
              "  'Balance-Optional-Leaves',\n",
              "  'You have 2 optional leaves remaining.'],\n",
              " ['number of optional leaves?',\n",
              "  'Balance-Optional-Leaves',\n",
              "  'You have 2 optional leaves remaining.'],\n",
              " ['How many carry forward leaves do I have?',\n",
              "  'CF',\n",
              "  'You have 30 carry forward leaves.'],\n",
              " ['number of carry forward leaves I have?',\n",
              "  'CF',\n",
              "  'You have 30 carry forward leaves.'],\n",
              " ['tell me the carry forward leaves count I have',\n",
              "  'CF',\n",
              "  'You have 30 carry forward leaves.'],\n",
              " ['tell me number of carry forward leaves I have',\n",
              "  'CF',\n",
              "  'You have 30 carry forward leaves.'],\n",
              " ['can you tell me number of carry forward leaves I have',\n",
              "  'CF',\n",
              "  'You have 30 carry forward leaves.'],\n",
              " ['please tell me number of carry forward leaves I have',\n",
              "  'CF',\n",
              "  'You have 30 carry forward leaves.'],\n",
              " ['How many carry forwards do I have from previous year?',\n",
              "  'CF',\n",
              "  'You have 30 carry forward leaves.'],\n",
              " ['Tell me my carry forward leaves from previous year',\n",
              "  'CF',\n",
              "  'You have 30 carry forward leaves.'],\n",
              " ['Tell me my carry forward leaves',\n",
              "  'CF',\n",
              "  'You have 30 carry forward leaves.'],\n",
              " ['Tell me carry forward leaves', 'CF', 'You have 30 carry forward leaves.'],\n",
              " ['carry forward leaves', 'CF', 'You have 30 carry forward leaves.'],\n",
              " ['carry forward leave', 'CF', 'You have 30 carry forward leaves.'],\n",
              " ['carry forward', 'CF', 'You have 30 carry forward leaves.'],\n",
              " ['previous year carry forward leaves',\n",
              "  'CF',\n",
              "  'You have 30 carry forward leaves.']]"
            ]
          },
          "metadata": {
            "tags": []
          },
          "execution_count": 40
        }
      ]
    },
    {
      "cell_type": "code",
      "metadata": {
        "id": "E--QOdkosLgT",
        "colab_type": "code",
        "colab": {}
      },
      "source": [
        "features_data, corpus, answers = extract_feature_from_doc(data)"
      ],
      "execution_count": null,
      "outputs": []
    },
    {
      "cell_type": "code",
      "metadata": {
        "id": "koj-IYUOsLga",
        "colab_type": "code",
        "colab": {},
        "outputId": "d3b4cb33-7a9e-4527-8a8b-ec74766a63fe"
      },
      "source": [
        "print(features_data[50])"
      ],
      "execution_count": null,
      "outputs": [
        {
          "output_type": "stream",
          "text": [
            "({'mani': True, 'option': True, 'leav': True}, 'Utilized-Optional-Leaves')\n"
          ],
          "name": "stdout"
        }
      ]
    },
    {
      "cell_type": "code",
      "metadata": {
        "id": "ohloXeBKsLgh",
        "colab_type": "code",
        "colab": {},
        "outputId": "00af6df7-12e4-4136-9b99-5fff7dc97ce9"
      },
      "source": [
        "corpus"
      ],
      "execution_count": null,
      "outputs": [
        {
          "output_type": "execute_result",
          "data": {
            "text/plain": [
              "['hello',\n",
              " 'hi',\n",
              " 'hello',\n",
              " 'hi',\n",
              " 'hi',\n",
              " 'hi',\n",
              " 'hey',\n",
              " 'hello',\n",
              " 'hi',\n",
              " 'hey',\n",
              " 'hey',\n",
              " 'hi',\n",
              " 'hey',\n",
              " 'hello',\n",
              " 'good',\n",
              " 'morn',\n",
              " 'good',\n",
              " 'afternoon',\n",
              " 'good',\n",
              " 'even',\n",
              " 'good',\n",
              " 'night',\n",
              " 'today',\n",
              " 'want',\n",
              " 'help',\n",
              " 'need',\n",
              " 'help',\n",
              " 'help',\n",
              " 'want',\n",
              " 'help',\n",
              " 'want',\n",
              " 'assist',\n",
              " 'help',\n",
              " 'great',\n",
              " 'talk',\n",
              " 'great',\n",
              " 'thank',\n",
              " 'help',\n",
              " 'thank',\n",
              " 'thank',\n",
              " 'much',\n",
              " 'thank',\n",
              " 'thank',\n",
              " 'much',\n",
              " 'mani',\n",
              " 'type',\n",
              " 'leav',\n",
              " 'type',\n",
              " 'leav',\n",
              " 'type',\n",
              " 'leav',\n",
              " 'type',\n",
              " 'leav',\n",
              " 'type',\n",
              " 'mani',\n",
              " 'leav',\n",
              " 'taken',\n",
              " 'mani',\n",
              " 'leav',\n",
              " 'alreadi',\n",
              " 'taken',\n",
              " 'mani',\n",
              " 'annual',\n",
              " 'leav',\n",
              " 'mani',\n",
              " 'annual',\n",
              " 'leav',\n",
              " 'taken',\n",
              " 'mani',\n",
              " 'annual',\n",
              " 'leav',\n",
              " 'alreadi',\n",
              " 'taken',\n",
              " 'annual',\n",
              " 'leav',\n",
              " 'count',\n",
              " 'taken',\n",
              " 'mani',\n",
              " 'annual',\n",
              " 'leav',\n",
              " 'taken',\n",
              " 'number',\n",
              " 'annual',\n",
              " 'leav',\n",
              " 'taken',\n",
              " 'annual',\n",
              " 'leav',\n",
              " 'taken',\n",
              " 'number',\n",
              " 'annual',\n",
              " 'leav',\n",
              " 'alreadi',\n",
              " 'taken',\n",
              " 'annual',\n",
              " 'leav',\n",
              " 'taken',\n",
              " 'annual',\n",
              " 'leav',\n",
              " 'alreadi',\n",
              " 'taken',\n",
              " 'number',\n",
              " 'annual',\n",
              " 'leav',\n",
              " 'taken',\n",
              " 'number',\n",
              " 'annual',\n",
              " 'leav',\n",
              " 'taken',\n",
              " 'annual',\n",
              " 'leav',\n",
              " 'annual',\n",
              " 'leav',\n",
              " 'mani',\n",
              " 'option',\n",
              " 'leav',\n",
              " 'taken',\n",
              " 'mani',\n",
              " 'option',\n",
              " 'leav',\n",
              " 'option',\n",
              " 'leav',\n",
              " 'taken',\n",
              " 'number',\n",
              " 'option',\n",
              " 'leav',\n",
              " 'taken',\n",
              " 'option',\n",
              " 'leav',\n",
              " 'count',\n",
              " 'taken',\n",
              " 'number',\n",
              " 'option',\n",
              " 'leav',\n",
              " 'taken',\n",
              " 'number',\n",
              " 'option',\n",
              " 'leav',\n",
              " 'taken',\n",
              " 'number',\n",
              " 'option',\n",
              " 'leav',\n",
              " 'taken',\n",
              " 'mani',\n",
              " 'option',\n",
              " 'leav',\n",
              " 'taken',\n",
              " 'number',\n",
              " 'option',\n",
              " 'leav',\n",
              " 'taken',\n",
              " 'number',\n",
              " 'option',\n",
              " 'leav',\n",
              " 'alreadi',\n",
              " 'taken',\n",
              " 'option',\n",
              " 'leav',\n",
              " 'taken',\n",
              " 'option',\n",
              " 'leav',\n",
              " 'alreadi',\n",
              " 'taken',\n",
              " 'number',\n",
              " 'option',\n",
              " 'leav',\n",
              " 'number',\n",
              " 'option',\n",
              " 'leav',\n",
              " 'option',\n",
              " 'leav',\n",
              " 'count',\n",
              " 'use',\n",
              " 'option',\n",
              " 'leav',\n",
              " 'count',\n",
              " 'use',\n",
              " 'option',\n",
              " 'leav',\n",
              " 'count',\n",
              " 'use',\n",
              " 'option',\n",
              " 'leav',\n",
              " 'count',\n",
              " 'use',\n",
              " 'option',\n",
              " 'leav',\n",
              " 'count',\n",
              " 'taken',\n",
              " 'option',\n",
              " 'leav',\n",
              " 'count',\n",
              " 'taken',\n",
              " 'option',\n",
              " 'leav',\n",
              " 'count',\n",
              " 'taken',\n",
              " 'mani',\n",
              " 'option',\n",
              " 'leav',\n",
              " 'mani',\n",
              " 'option',\n",
              " 'leav',\n",
              " 'number',\n",
              " 'option',\n",
              " 'leav',\n",
              " 'option',\n",
              " 'leav',\n",
              " 'mani',\n",
              " 'leav',\n",
              " 'mani',\n",
              " 'leav',\n",
              " 'take',\n",
              " 'mani',\n",
              " 'leav',\n",
              " 'remain',\n",
              " 'remain',\n",
              " 'leav',\n",
              " 'leav',\n",
              " 'tell',\n",
              " 'leav',\n",
              " 'balanc',\n",
              " 'remain',\n",
              " 'leav',\n",
              " 'leav',\n",
              " 'balanc',\n",
              " 'leav',\n",
              " 'pend',\n",
              " 'annual',\n",
              " 'leav',\n",
              " 'count',\n",
              " 'remain',\n",
              " 'mani',\n",
              " 'annual',\n",
              " 'leav',\n",
              " 'annual',\n",
              " 'leav',\n",
              " 'annual',\n",
              " 'leav',\n",
              " 'balanc',\n",
              " 'annual',\n",
              " 'leav',\n",
              " 'mani',\n",
              " 'annual',\n",
              " 'leav',\n",
              " 'remain',\n",
              " 'annual',\n",
              " 'leav',\n",
              " 'remain',\n",
              " 'remain',\n",
              " 'annual',\n",
              " 'leav',\n",
              " 'annual',\n",
              " 'leav',\n",
              " 'remain',\n",
              " 'number',\n",
              " 'annual',\n",
              " 'leav',\n",
              " 'remain',\n",
              " 'number',\n",
              " 'annual',\n",
              " 'leav',\n",
              " 'annual',\n",
              " 'leav',\n",
              " 'remain',\n",
              " 'annual',\n",
              " 'leav',\n",
              " 'count',\n",
              " 'remain',\n",
              " 'annual',\n",
              " 'leav',\n",
              " 'count',\n",
              " 'remain',\n",
              " 'annual',\n",
              " 'leav',\n",
              " 'count',\n",
              " 'remain',\n",
              " 'annual',\n",
              " 'leav',\n",
              " 'count',\n",
              " 'remain',\n",
              " 'annual',\n",
              " 'leav',\n",
              " 'balanc',\n",
              " 'annual',\n",
              " 'leav',\n",
              " 'balanc',\n",
              " 'annual',\n",
              " 'leav',\n",
              " 'number',\n",
              " 'annual',\n",
              " 'leav',\n",
              " 'remain',\n",
              " 'number',\n",
              " 'annual',\n",
              " 'leav',\n",
              " 'remain',\n",
              " 'mani',\n",
              " 'option',\n",
              " 'leav',\n",
              " 'remain',\n",
              " 'option',\n",
              " 'leav',\n",
              " 'remain',\n",
              " 'number',\n",
              " 'option',\n",
              " 'leav',\n",
              " 'remain',\n",
              " 'mani',\n",
              " 'option',\n",
              " 'leav',\n",
              " 'mani',\n",
              " 'option',\n",
              " 'leav',\n",
              " 'option',\n",
              " 'leav',\n",
              " 'balanc',\n",
              " 'option',\n",
              " 'leav',\n",
              " 'mani',\n",
              " 'option',\n",
              " 'leav',\n",
              " 'take',\n",
              " 'option',\n",
              " 'leav',\n",
              " 'take',\n",
              " 'mani',\n",
              " 'option',\n",
              " 'leav',\n",
              " 'option',\n",
              " 'leav',\n",
              " 'balanc',\n",
              " 'option',\n",
              " 'leav',\n",
              " 'count',\n",
              " 'remain',\n",
              " 'option',\n",
              " 'leav',\n",
              " 'option',\n",
              " 'leav',\n",
              " 'option',\n",
              " 'leav',\n",
              " 'balanc',\n",
              " 'option',\n",
              " 'option',\n",
              " 'leav',\n",
              " 'count',\n",
              " 'remain',\n",
              " 'option',\n",
              " 'leav',\n",
              " 'count',\n",
              " 'remain',\n",
              " 'option',\n",
              " 'leav',\n",
              " 'count',\n",
              " 'remain',\n",
              " 'number',\n",
              " 'option',\n",
              " 'leav',\n",
              " 'remain',\n",
              " 'number',\n",
              " 'option',\n",
              " 'leav',\n",
              " 'remain',\n",
              " 'number',\n",
              " 'option',\n",
              " 'leav',\n",
              " 'remain',\n",
              " 'number',\n",
              " 'option',\n",
              " 'leav',\n",
              " 'number',\n",
              " 'option',\n",
              " 'leav',\n",
              " 'mani',\n",
              " 'carri',\n",
              " 'forward',\n",
              " 'leav',\n",
              " 'number',\n",
              " 'carri',\n",
              " 'forward',\n",
              " 'leav',\n",
              " 'tell',\n",
              " 'carri',\n",
              " 'forward',\n",
              " 'leav',\n",
              " 'count',\n",
              " 'number',\n",
              " 'forward',\n",
              " 'leav',\n",
              " 'number',\n",
              " 'forward',\n",
              " 'leav',\n",
              " 'number',\n",
              " 'forward',\n",
              " 'leav',\n",
              " 'mani',\n",
              " 'carri',\n",
              " 'forward',\n",
              " 'previous',\n",
              " 'year',\n",
              " 'tell',\n",
              " 'carri',\n",
              " 'forward',\n",
              " 'leav',\n",
              " 'previous',\n",
              " 'year',\n",
              " 'tell',\n",
              " 'carri',\n",
              " 'forward',\n",
              " 'leav',\n",
              " 'tell',\n",
              " 'carri',\n",
              " 'forward',\n",
              " 'leav',\n",
              " 'forward',\n",
              " 'leav',\n",
              " 'carri',\n",
              " 'forward',\n",
              " 'leav',\n",
              " 'carri',\n",
              " 'forward',\n",
              " 'previous',\n",
              " 'year',\n",
              " 'carri',\n",
              " 'forward',\n",
              " 'leav']"
            ]
          },
          "metadata": {
            "tags": []
          },
          "execution_count": 44
        }
      ]
    },
    {
      "cell_type": "code",
      "metadata": {
        "id": "cgfnZF7HsLgx",
        "colab_type": "code",
        "colab": {},
        "outputId": "3fab511c-9399-4a12-ae05-906681e5a1db"
      },
      "source": [
        "answers"
      ],
      "execution_count": null,
      "outputs": [
        {
          "output_type": "execute_result",
          "data": {
            "text/plain": [
              "{'Greetings': 'Hello. I am Dexter. I will serve your leave enquiries.',\n",
              " 'Morning': 'Good Morning. I am Dexter. I will serve your leave enquiries.',\n",
              " 'Afternoon': 'Good afternoon. I am Dexter. I will serve your leave enquiries.',\n",
              " 'Evening': 'Good evening. I am Dexter. I will serve your leave enquiries.',\n",
              " 'Goodbye': 'Good night. Take care.',\n",
              " 'Opening': \"I'm fine! Thank you. How can I help you?\",\n",
              " 'Help': 'How can I help you?',\n",
              " 'No-Help': 'Ok sir/madam. No problem. Have a nice day.',\n",
              " 'Closing': \"It's glad to know that I have been helpful. Have a good day!\",\n",
              " 'Leaves-Type': 'Currently I know about two: annual and optional leaves.',\n",
              " 'Default-Utilized-Annual-Leaves': 'You have used 12 annual leaves.',\n",
              " 'Utilized-Annual-Leaves': 'You have taken 12 annual leaves.',\n",
              " 'Utilized-Optional-Leaves': 'You have taken 1 optional leaves.',\n",
              " 'Default-Balance-Annual-Leaves': 'You have 25 annual leaves left.',\n",
              " 'Balance-Annual-Leaves': 'You have 25 annual leaves remaining.',\n",
              " 'Balance-Optional-Leaves': 'You have 2 optional leaves remaining.',\n",
              " 'CF': 'You have 30 carry forward leaves.'}"
            ]
          },
          "metadata": {
            "tags": []
          },
          "execution_count": 45
        }
      ]
    },
    {
      "cell_type": "markdown",
      "metadata": {
        "id": "iqTi4sJvsLg8",
        "colab_type": "text"
      },
      "source": [
        "# Train a model using these fetures"
      ]
    },
    {
      "cell_type": "code",
      "metadata": {
        "id": "ZSESvk4EsLg9",
        "colab_type": "code",
        "colab": {}
      },
      "source": [
        "## split data into train and test sets\n",
        "split_ratio = 0.8"
      ],
      "execution_count": null,
      "outputs": []
    },
    {
      "cell_type": "code",
      "metadata": {
        "id": "nEMwT7SksLhH",
        "colab_type": "code",
        "colab": {}
      },
      "source": [
        "def split_dataset(data, split_ratio):\n",
        "    random.shuffle(data)\n",
        "    data_length = len(data)\n",
        "    train_split = int(data_length * split_ratio)\n",
        "    return (data[:train_split]), (data[train_split:])"
      ],
      "execution_count": null,
      "outputs": []
    },
    {
      "cell_type": "code",
      "metadata": {
        "id": "VHMo2jihsLhM",
        "colab_type": "code",
        "colab": {}
      },
      "source": [
        "training_data, test_data = split_dataset(features_data, split_ratio)"
      ],
      "execution_count": null,
      "outputs": []
    },
    {
      "cell_type": "code",
      "metadata": {
        "id": "8fX3ebAisLhX",
        "colab_type": "code",
        "colab": {},
        "outputId": "1e5a1818-5259-48a1-b522-586d20fdbfa3"
      },
      "source": [
        "training_data"
      ],
      "execution_count": null,
      "outputs": [
        {
          "output_type": "execute_result",
          "data": {
            "text/plain": [
              "[({'annual': True, 'leav': True, 'taken': True}, 'Utilized-Annual-Leaves'),\n",
              " ({'option': True, 'leav': True, 'count': True, 'remain': True},\n",
              "  'Balance-Optional-Leaves'),\n",
              " ({'thank': True, 'much': True}, 'Closing'),\n",
              " ({'option': True, 'leav': True, 'taken': True}, 'Utilized-Optional-Leaves'),\n",
              " ({'thank': True, 'help': True}, 'Closing'),\n",
              " ({'mani': True, 'option': True, 'leav': True}, 'Utilized-Optional-Leaves'),\n",
              " ({'number': True, 'option': True, 'leav': True, 'taken': True},\n",
              "  'Utilized-Optional-Leaves'),\n",
              " ({'mani': True, 'leav': True}, 'Default-Balance-Annual-Leaves'),\n",
              " ({'number': True, 'option': True, 'leav': True}, 'Balance-Optional-Leaves'),\n",
              " ({'option': True, 'leav': True, 'count': True, 'remain': True},\n",
              "  'Balance-Optional-Leaves'),\n",
              " ({'carri': True, 'forward': True}, 'CF'),\n",
              " ({'option': True, 'leav': True, 'count': True, 'taken': True},\n",
              "  'Utilized-Optional-Leaves'),\n",
              " ({'good': True, 'night': True}, 'Goodbye'),\n",
              " ({'number': True, 'annual': True, 'leav': True}, 'Balance-Annual-Leaves'),\n",
              " ({'good': True, 'afternoon': True}, 'Afternoon'),\n",
              " ({'mani': True, 'annual': True, 'leav': True, 'taken': True},\n",
              "  'Utilized-Annual-Leaves'),\n",
              " ({'leav': True, 'pend': True}, 'Default-Balance-Annual-Leaves'),\n",
              " ({'tell': True,\n",
              "   'carri': True,\n",
              "   'forward': True,\n",
              "   'leav': True,\n",
              "   'previous': True,\n",
              "   'year': True},\n",
              "  'CF'),\n",
              " ({'leav': True, 'type': True}, 'Leaves-Type'),\n",
              " ({'number': True, 'annual': True, 'leav': True, 'remain': True},\n",
              "  'Balance-Annual-Leaves'),\n",
              " ({'option': True, 'leav': True, 'count': True, 'use': True},\n",
              "  'Utilized-Optional-Leaves'),\n",
              " ({'option': True, 'leav': True, 'count': True, 'remain': True},\n",
              "  'Balance-Optional-Leaves'),\n",
              " ({'option': True, 'leav': True, 'take': True}, 'Balance-Optional-Leaves'),\n",
              " ({'mani': True, 'carri': True, 'forward': True, 'leav': True}, 'CF'),\n",
              " ({'mani': True, 'annual': True, 'leav': True, 'taken': True},\n",
              "  'Utilized-Annual-Leaves'),\n",
              " ({'option': True, 'leav': True, 'alreadi': True, 'taken': True},\n",
              "  'Utilized-Optional-Leaves'),\n",
              " ({'leav': True, 'balanc': True}, 'Default-Balance-Annual-Leaves'),\n",
              " ({'mani': True, 'option': True, 'leav': True}, 'Balance-Optional-Leaves'),\n",
              " ({'option': True, 'leav': True}, 'Balance-Optional-Leaves'),\n",
              " ({'number': True, 'option': True, 'leav': True, 'remain': True},\n",
              "  'Balance-Optional-Leaves'),\n",
              " ({'number': True, 'option': True, 'leav': True}, 'Utilized-Optional-Leaves'),\n",
              " ({'number': True, 'annual': True, 'leav': True, 'remain': True},\n",
              "  'Balance-Annual-Leaves'),\n",
              " ({'number': True, 'option': True, 'leav': True, 'remain': True},\n",
              "  'Balance-Optional-Leaves'),\n",
              " ({'leav': True}, 'Default-Balance-Annual-Leaves'),\n",
              " ({'mani': True, 'leav': True, 'remain': True},\n",
              "  'Default-Balance-Annual-Leaves'),\n",
              " ({'type': True, 'leav': True}, 'Leaves-Type'),\n",
              " ({'hi': True}, 'Greetings'),\n",
              " ({'mani': True,\n",
              "   'carri': True,\n",
              "   'forward': True,\n",
              "   'previous': True,\n",
              "   'year': True},\n",
              "  'CF'),\n",
              " ({'mani': True, 'option': True, 'leav': True, 'take': True},\n",
              "  'Balance-Optional-Leaves'),\n",
              " ({'option': True, 'leav': True}, 'Utilized-Optional-Leaves'),\n",
              " ({'mani': True, 'option': True, 'leav': True}, 'Utilized-Optional-Leaves'),\n",
              " ({'number': True, 'carri': True, 'forward': True, 'leav': True}, 'CF'),\n",
              " ({'tell': True, 'leav': True, 'balanc': True},\n",
              "  'Default-Balance-Annual-Leaves'),\n",
              " ({'want': True, 'help': True}, 'No-Help'),\n",
              " ({'option': True, 'leav': True, 'count': True, 'use': True},\n",
              "  'Utilized-Optional-Leaves'),\n",
              " ({'number': True, 'annual': True, 'leav': True, 'remain': True},\n",
              "  'Balance-Annual-Leaves'),\n",
              " ({'mani': True, 'annual': True, 'leav': True, 'alreadi': True, 'taken': True},\n",
              "  'Utilized-Annual-Leaves'),\n",
              " ({'remain': True, 'leav': True}, 'Default-Balance-Annual-Leaves'),\n",
              " ({'remain': True, 'leav': True}, 'Default-Balance-Annual-Leaves'),\n",
              " ({'tell': True, 'carri': True, 'forward': True, 'leav': True}, 'CF'),\n",
              " ({'hello': True}, 'Greetings'),\n",
              " ({'number': True, 'annual': True, 'leav': True, 'taken': True},\n",
              "  'Utilized-Annual-Leaves'),\n",
              " ({'number': True, 'option': True, 'leav': True, 'remain': True},\n",
              "  'Balance-Optional-Leaves'),\n",
              " ({'mani': True, 'annual': True, 'leav': True}, 'Utilized-Annual-Leaves'),\n",
              " ({'mani': True, 'leav': True, 'alreadi': True, 'taken': True},\n",
              "  'Default-Utilized-Annual-Leaves'),\n",
              " ({'number': True, 'annual': True, 'leav': True}, 'Utilized-Annual-Leaves'),\n",
              " ({'annual': True, 'leav': True, 'remain': True}, 'Balance-Annual-Leaves'),\n",
              " ({'annual': True, 'leav': True, 'count': True, 'taken': True},\n",
              "  'Utilized-Annual-Leaves'),\n",
              " ({'today': True}, 'Opening'),\n",
              " ({'mani': True, 'option': True, 'leav': True, 'taken': True},\n",
              "  'Utilized-Optional-Leaves'),\n",
              " ({'annual': True, 'leav': True}, 'Utilized-Annual-Leaves'),\n",
              " ({'annual': True, 'leav': True, 'count': True, 'remain': True},\n",
              "  'Balance-Annual-Leaves'),\n",
              " ({'number': True, 'option': True, 'leav': True, 'taken': True},\n",
              "  'Utilized-Optional-Leaves'),\n",
              " ({'number': True, 'option': True, 'leav': True, 'taken': True},\n",
              "  'Utilized-Optional-Leaves'),\n",
              " ({'annual': True, 'leav': True, 'remain': True}, 'Balance-Annual-Leaves'),\n",
              " ({'annual': True, 'leav': True, 'balanc': True}, 'Balance-Annual-Leaves'),\n",
              " ({'good': True, 'even': True}, 'Evening'),\n",
              " ({'need': True, 'help': True}, 'Help'),\n",
              " ({'option': True, 'leav': True, 'balanc': True}, 'Balance-Optional-Leaves'),\n",
              " ({'number': True, 'option': True, 'leav': True}, 'Balance-Optional-Leaves'),\n",
              " ({'annual': True, 'leav': True, 'balanc': True}, 'Balance-Annual-Leaves'),\n",
              " ({'carri': True, 'forward': True, 'leav': True}, 'CF'),\n",
              " ({'mani': True, 'option': True, 'leav': True}, 'Balance-Optional-Leaves'),\n",
              " ({'great': True, 'talk': True}, 'Closing'),\n",
              " ({'number': True, 'forward': True, 'leav': True}, 'CF'),\n",
              " ({'number': True, 'option': True, 'leav': True}, 'Utilized-Optional-Leaves'),\n",
              " ({'hi': True, 'hello': True}, 'Greetings'),\n",
              " ({'help': True}, 'Help'),\n",
              " ({'annual': True, 'leav': True, 'balanc': True}, 'Balance-Annual-Leaves'),\n",
              " ({'option': True, 'leav': True}, 'Balance-Optional-Leaves'),\n",
              " ({'mani': True, 'annual': True, 'leav': True, 'remain': True},\n",
              "  'Balance-Annual-Leaves'),\n",
              " ({'option': True, 'leav': True, 'count': True, 'use': True},\n",
              "  'Utilized-Optional-Leaves'),\n",
              " ({'number': True,\n",
              "   'annual': True,\n",
              "   'leav': True,\n",
              "   'alreadi': True,\n",
              "   'taken': True},\n",
              "  'Utilized-Annual-Leaves'),\n",
              " ({'option': True, 'leav': True, 'count': True, 'remain': True},\n",
              "  'Balance-Optional-Leaves'),\n",
              " ({'mani': True, 'type': True, 'leav': True}, 'Leaves-Type'),\n",
              " ({'number': True, 'annual': True, 'leav': True, 'taken': True},\n",
              "  'Utilized-Annual-Leaves'),\n",
              " ({'previous': True,\n",
              "   'year': True,\n",
              "   'carri': True,\n",
              "   'forward': True,\n",
              "   'leav': True},\n",
              "  'CF'),\n",
              " ({'thank': True, 'much': True}, 'Closing'),\n",
              " ({'forward': True, 'leav': True}, 'CF'),\n",
              " ({'taken': True, 'annual': True, 'leav': True}, 'Utilized-Annual-Leaves'),\n",
              " ({'mani': True, 'leav': True, 'taken': True},\n",
              "  'Default-Utilized-Annual-Leaves'),\n",
              " ({'annual': True, 'leav': True}, 'Balance-Annual-Leaves'),\n",
              " ({'number': True, 'option': True, 'leav': True, 'taken': True},\n",
              "  'Utilized-Optional-Leaves'),\n",
              " ({'tell': True, 'carri': True, 'forward': True, 'leav': True}, 'CF'),\n",
              " ({'number': True, 'forward': True, 'leav': True}, 'CF'),\n",
              " ({'mani': True, 'option': True, 'leav': True, 'taken': True},\n",
              "  'Utilized-Optional-Leaves'),\n",
              " ({'number': True, 'option': True, 'leav': True, 'remain': True},\n",
              "  'Balance-Optional-Leaves'),\n",
              " ({'annual': True, 'leav': True, 'count': True, 'remain': True},\n",
              "  'Balance-Annual-Leaves'),\n",
              " ({'thank': True}, 'Closing'),\n",
              " ({'hello': True, 'hi': True}, 'Greetings'),\n",
              " ({'hey': True, 'hello': True}, 'Greetings'),\n",
              " ({'hey': True}, 'Greetings'),\n",
              " ({'mani': True, 'option': True, 'leav': True}, 'Utilized-Optional-Leaves'),\n",
              " ({'number': True, 'option': True, 'leav': True, 'taken': True},\n",
              "  'Utilized-Optional-Leaves'),\n",
              " ({'annual': True, 'leav': True, 'count': True, 'remain': True},\n",
              "  'Balance-Annual-Leaves'),\n",
              " ({'hey': True}, 'Greetings'),\n",
              " ({'annual': True, 'leav': True, 'remain': True}, 'Balance-Annual-Leaves'),\n",
              " ({'help': True}, 'No-Help'),\n",
              " ({'option': True}, 'Balance-Optional-Leaves'),\n",
              " ({'option': True, 'leav': True, 'count': True, 'taken': True},\n",
              "  'Utilized-Optional-Leaves'),\n",
              " ({'mani': True, 'annual': True, 'leav': True}, 'Balance-Annual-Leaves'),\n",
              " ({'option': True, 'leav': True, 'taken': True}, 'Utilized-Optional-Leaves'),\n",
              " ({'option': True, 'leav': True}, 'Balance-Optional-Leaves'),\n",
              " ({'option': True, 'leav': True, 'count': True, 'taken': True},\n",
              "  'Utilized-Optional-Leaves')]"
            ]
          },
          "metadata": {
            "tags": []
          },
          "execution_count": 127
        }
      ]
    },
    {
      "cell_type": "code",
      "metadata": {
        "id": "cVjchvQFsLhf",
        "colab_type": "code",
        "colab": {}
      },
      "source": [
        "# save the data\n",
        "np.save('training_data', training_data)\n",
        "np.save('test_data', test_data)"
      ],
      "execution_count": null,
      "outputs": []
    },
    {
      "cell_type": "markdown",
      "metadata": {
        "id": "UpLt1r9vsLhl",
        "colab_type": "text"
      },
      "source": [
        "## Classification using Decision tree"
      ]
    },
    {
      "cell_type": "code",
      "metadata": {
        "id": "BrlcBM4PsLhm",
        "colab_type": "code",
        "colab": {}
      },
      "source": [
        "training_data = np.load('training_data.npy')\n",
        "test_data = np.load('test_data.npy')"
      ],
      "execution_count": null,
      "outputs": []
    },
    {
      "cell_type": "code",
      "metadata": {
        "id": "usxeZIT8sLhs",
        "colab_type": "code",
        "colab": {}
      },
      "source": [
        "def train_using_decision_tree(training_data, test_data):\n",
        "    \n",
        "    classifier = nltk.classify.DecisionTreeClassifier.train(training_data, entropy_cutoff=0.6, support_cutoff=6)\n",
        "    classifier_name = type(classifier).__name__\n",
        "    training_set_accuracy = nltk.classify.accuracy(classifier, training_data)\n",
        "    print('training set accuracy: ', training_set_accuracy)\n",
        "    test_set_accuracy = nltk.classify.accuracy(classifier, test_data)\n",
        "    print('test set accuracy: ', test_set_accuracy)\n",
        "    return classifier, classifier_name, test_set_accuracy, training_set_accuracy"
      ],
      "execution_count": null,
      "outputs": []
    },
    {
      "cell_type": "code",
      "metadata": {
        "id": "rIHfwMX-sLhy",
        "colab_type": "code",
        "colab": {},
        "outputId": "57e90158-57c9-4ef6-eae3-362f551e6894"
      },
      "source": [
        "dtclassifier, classifier_name, test_set_accuracy, training_set_accuracy = train_using_decision_tree(training_data, test_data)"
      ],
      "execution_count": null,
      "outputs": [
        {
          "output_type": "stream",
          "text": [
            "training set accuracy:  0.9035087719298246\n",
            "test set accuracy:  0.896551724137931\n"
          ],
          "name": "stdout"
        }
      ]
    },
    {
      "cell_type": "code",
      "metadata": {
        "id": "CO87bdq0sLiN",
        "colab_type": "code",
        "colab": {}
      },
      "source": [
        ""
      ],
      "execution_count": null,
      "outputs": []
    },
    {
      "cell_type": "markdown",
      "metadata": {
        "id": "ARVeDFP5sLiS",
        "colab_type": "text"
      },
      "source": [
        "## Classification using Naive Bayes"
      ]
    },
    {
      "cell_type": "code",
      "metadata": {
        "id": "LZkXZ9CysLiT",
        "colab_type": "code",
        "colab": {}
      },
      "source": [
        "def train_using_naive_bayes(training_data, test_data):\n",
        "    classifier = nltk.NaiveBayesClassifier.train(training_data)\n",
        "    classifier_name = type(classifier).__name__\n",
        "    training_set_accuracy = nltk.classify.accuracy(classifier, training_data)\n",
        "    test_set_accuracy = nltk.classify.accuracy(classifier, test_data)\n",
        "    return classifier, classifier_name, test_set_accuracy, training_set_accuracy"
      ],
      "execution_count": null,
      "outputs": []
    },
    {
      "cell_type": "code",
      "metadata": {
        "id": "cFRb1IDusLig",
        "colab_type": "code",
        "colab": {},
        "outputId": "163ed893-46c3-422c-a8e5-f6a21264c70d"
      },
      "source": [
        "classifier, classifier_name, test_set_accuracy, training_set_accuracy = train_using_naive_bayes(training_data, test_data)\n",
        "print(training_set_accuracy)\n",
        "print(test_set_accuracy)\n",
        "print(len(classifier.most_informative_features()))\n",
        "classifier.show_most_informative_features()"
      ],
      "execution_count": null,
      "outputs": [
        {
          "output_type": "stream",
          "text": [
            "0.8421052631578947\n",
            "0.7931034482758621\n",
            "68\n",
            "Most Informative Features\n",
            "                    leav = None           Greeti : Balanc =     11.2 : 1.0\n",
            "                 alreadi = True           Defaul : Utiliz =      7.7 : 1.0\n",
            "                    mani = True           Defaul : Balanc =      6.3 : 1.0\n",
            "                   carri = None           Utiliz : CF     =      3.9 : 1.0\n",
            "                   thank = None           Utiliz : Closin =      3.9 : 1.0\n",
            "                    help = True             Help : Closin =      3.5 : 1.0\n",
            "                   count = True           Utiliz : CF     =      3.4 : 1.0\n",
            "                  remain = None           Utiliz : Balanc =      3.4 : 1.0\n",
            "                   taken = None           Balanc : Utiliz =      2.8 : 1.0\n",
            "                    want = None           Utiliz : No-Hel =      2.6 : 1.0\n"
          ],
          "name": "stdout"
        }
      ]
    },
    {
      "cell_type": "code",
      "metadata": {
        "id": "NFf9v_p0sLim",
        "colab_type": "code",
        "colab": {},
        "outputId": "401ee8dc-d61f-4bce-b697-00552fd56c40"
      },
      "source": [
        "classifier.classify(({'mani': True, 'option': True, 'leav': True}))"
      ],
      "execution_count": null,
      "outputs": [
        {
          "output_type": "execute_result",
          "data": {
            "text/plain": [
              "'Utilized-Optional-Leaves'"
            ]
          },
          "metadata": {
            "tags": []
          },
          "execution_count": 142
        }
      ]
    },
    {
      "cell_type": "code",
      "metadata": {
        "id": "eUMmDghLsLiv",
        "colab_type": "code",
        "colab": {}
      },
      "source": [
        ""
      ],
      "execution_count": null,
      "outputs": []
    },
    {
      "cell_type": "code",
      "metadata": {
        "id": "fZSrroPgsLi3",
        "colab_type": "code",
        "colab": {},
        "outputId": "aa86ed5a-dd74-46d5-f4ff-50d46dcc2cb8"
      },
      "source": [
        "extract_feature(\"hello\")"
      ],
      "execution_count": null,
      "outputs": [
        {
          "output_type": "execute_result",
          "data": {
            "text/plain": [
              "['hello']"
            ]
          },
          "metadata": {
            "tags": []
          },
          "execution_count": 143
        }
      ]
    },
    {
      "cell_type": "code",
      "metadata": {
        "id": "fDIDCgYdsLi9",
        "colab_type": "code",
        "colab": {},
        "outputId": "00a32a65-dc96-4774-b9ea-ad58d50aaa66"
      },
      "source": [
        "word_feats(extract_feature(\"hello\"))"
      ],
      "execution_count": null,
      "outputs": [
        {
          "output_type": "execute_result",
          "data": {
            "text/plain": [
              "{'hello': True}"
            ]
          },
          "metadata": {
            "tags": []
          },
          "execution_count": 144
        }
      ]
    },
    {
      "cell_type": "code",
      "metadata": {
        "id": "aAWqi4rmsLjC",
        "colab_type": "code",
        "colab": {},
        "outputId": "a3dc226b-0740-4c8e-a9d1-3d3c9a0e99cd"
      },
      "source": [
        "input_sentence = \"how many balanced leaves do I have?\"\n",
        "classifier.classify(word_feats(extract_feature(input_sentence)))"
      ],
      "execution_count": null,
      "outputs": [
        {
          "output_type": "execute_result",
          "data": {
            "text/plain": [
              "'Utilized-Optional-Leaves'"
            ]
          },
          "metadata": {
            "tags": []
          },
          "execution_count": 145
        }
      ]
    },
    {
      "cell_type": "code",
      "metadata": {
        "id": "7H_qd78xsLjH",
        "colab_type": "code",
        "colab": {}
      },
      "source": [
        ""
      ],
      "execution_count": null,
      "outputs": []
    },
    {
      "cell_type": "code",
      "metadata": {
        "id": "PetzlFwlsLjO",
        "colab_type": "code",
        "colab": {}
      },
      "source": [
        "def reply(input_sentence):\n",
        "    category = dtclassifier.classify(word_feats(extract_feature(input_sentence)))\n",
        "    return answers[category]\n",
        "    \n",
        "    "
      ],
      "execution_count": null,
      "outputs": []
    },
    {
      "cell_type": "code",
      "metadata": {
        "id": "JRIDZruUsLjT",
        "colab_type": "code",
        "colab": {},
        "outputId": "9eba827a-8b8a-439a-aa04-aee76e4b94d5"
      },
      "source": [
        "reply('Hi')"
      ],
      "execution_count": null,
      "outputs": [
        {
          "output_type": "execute_result",
          "data": {
            "text/plain": [
              "'Hello. I am Dexter. I will serve your leave enquiries.'"
            ]
          },
          "metadata": {
            "tags": []
          },
          "execution_count": 147
        }
      ]
    },
    {
      "cell_type": "code",
      "metadata": {
        "id": "jV4k77H2sLjY",
        "colab_type": "code",
        "colab": {},
        "outputId": "252abdc7-3629-47a6-da1d-1f8f4890e717"
      },
      "source": [
        "reply('How many annual leaves do I have left?')"
      ],
      "execution_count": null,
      "outputs": [
        {
          "output_type": "execute_result",
          "data": {
            "text/plain": [
              "'You have 25 annual leaves remaining.'"
            ]
          },
          "metadata": {
            "tags": []
          },
          "execution_count": 148
        }
      ]
    },
    {
      "cell_type": "code",
      "metadata": {
        "id": "kapJQnirsLjf",
        "colab_type": "code",
        "colab": {},
        "outputId": "ca0af3e4-8edb-48f8-9e03-fb0cf6e0dff6"
      },
      "source": [
        "reply('How many leaves have I taken?')"
      ],
      "execution_count": null,
      "outputs": [
        {
          "output_type": "execute_result",
          "data": {
            "text/plain": [
              "'You have used 12 annual leaves.'"
            ]
          },
          "metadata": {
            "tags": []
          },
          "execution_count": 149
        }
      ]
    },
    {
      "cell_type": "code",
      "metadata": {
        "id": "HH3QumpTsLjj",
        "colab_type": "code",
        "colab": {},
        "outputId": "7bbc5079-b303-4427-f850-d65ede212da6"
      },
      "source": [
        "reply('Thanks!')"
      ],
      "execution_count": null,
      "outputs": [
        {
          "output_type": "execute_result",
          "data": {
            "text/plain": [
              "\"It's glad to know that I have been helpful. Have a good day!\""
            ]
          },
          "metadata": {
            "tags": []
          },
          "execution_count": 150
        }
      ]
    },
    {
      "cell_type": "code",
      "metadata": {
        "id": "mCar1l-SsLjp",
        "colab_type": "code",
        "colab": {}
      },
      "source": [
        ""
      ],
      "execution_count": null,
      "outputs": []
    },
    {
      "cell_type": "code",
      "metadata": {
        "id": "Vsh8V1u9sLjt",
        "colab_type": "code",
        "colab": {}
      },
      "source": [
        ""
      ],
      "execution_count": null,
      "outputs": []
    },
    {
      "cell_type": "code",
      "metadata": {
        "id": "BY8_JQ28sLjy",
        "colab_type": "code",
        "colab": {}
      },
      "source": [
        ""
      ],
      "execution_count": null,
      "outputs": []
    },
    {
      "cell_type": "markdown",
      "metadata": {
        "id": "kAzk5iJHsLj3",
        "colab_type": "text"
      },
      "source": [
        "# Conclusion:"
      ]
    },
    {
      "cell_type": "markdown",
      "metadata": {
        "id": "qbLIxmX1sLj3",
        "colab_type": "text"
      },
      "source": [
        "Once the model has been developed using an algorithm that gives an acceptable accuracy, this model can be called using to any chatbot UI framework"
      ]
    },
    {
      "cell_type": "code",
      "metadata": {
        "id": "iC7N8NX1sLj4",
        "colab_type": "code",
        "colab": {}
      },
      "source": [
        ""
      ],
      "execution_count": null,
      "outputs": []
    }
  ]
}