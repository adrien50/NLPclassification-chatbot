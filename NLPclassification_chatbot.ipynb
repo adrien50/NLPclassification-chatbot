{
  "nbformat": 4,
  "nbformat_minor": 0,
  "metadata": {
    "kernelspec": {
      "display_name": "Python 3",
      "language": "python",
      "name": "python3"
    },
    "language_info": {
      "codemirror_mode": {
        "name": "ipython",
        "version": 3
      },
      "file_extension": ".py",
      "mimetype": "text/x-python",
      "name": "python",
      "nbconvert_exporter": "python",
      "pygments_lexer": "ipython3",
      "version": "3.7.6"
    },
    "colab": {
      "name": "NLPclassification-chatbot.ipynb",
      "provenance": [],
      "toc_visible": true,
      "include_colab_link": true
    }
  },
  "cells": [
    {
      "cell_type": "markdown",
      "metadata": {
        "id": "view-in-github",
        "colab_type": "text"
      },
      "source": [
        "<a href=\"https://colab.research.google.com/github/adrien50/NLPclassification-chatbot/blob/master/NLPclassification_chatbot.ipynb\" target=\"_parent\"><img src=\"https://colab.research.google.com/assets/colab-badge.svg\" alt=\"Open In Colab\"/></a>"
      ]
    },
    {
      "cell_type": "markdown",
      "metadata": {
        "id": "PlyKgTdY8Wk9"
      },
      "source": [
        "# Text classification using NLP / Core engine of a chat bot."
      ]
    },
    {
      "cell_type": "markdown",
      "metadata": {
        "id": "R3fln4bx8WlH"
      },
      "source": [
        "Human language is astoundingly complex and diverse. When we write, we often misspell or abbreviate words, or omit punctuation. There is a lot of unstructured data around us. Natural language processing helps computers communicate with humans in their own language and scales other language-related tasks. For example, NLP makes it possible for computers to read text, interpret it, measure sentiment and determine which parts are important. Understanding this will enable you to build the core component of any conversational chatbot. This is the core engine of a conversational chatbot"
      ]
    },
    {
      "cell_type": "markdown",
      "metadata": {
        "id": "cfAv60ES8WlL"
      },
      "source": [
        "Detecting patterns is a central part of Natural Language Processing. Words ending in -ed tend to be past tense verbs. Frequent use of will is indicative of news text (3). These observable patterns — word structure and word frequency — happen to correlate with particular aspects of meaning, such as tense and topic. But how did we know where to start looking, which aspects of form to associate with which aspects of meaning? In this series we shall learn to create the core engine of a chat bot. We will learn text classification using the techniques of natural language processing.\n",
        "\n"
      ]
    },
    {
      "cell_type": "code",
      "metadata": {
        "id": "-lUBsf_z8WlN"
      },
      "source": [
        ""
      ],
      "execution_count": null,
      "outputs": []
    },
    {
      "cell_type": "markdown",
      "metadata": {
        "id": "NGM7HSdj8WlY"
      },
      "source": [
        "# Import useful libraries"
      ]
    },
    {
      "cell_type": "code",
      "metadata": {
        "id": "ZhMdc9df8WlZ"
      },
      "source": [
        "import nltk"
      ],
      "execution_count": null,
      "outputs": []
    },
    {
      "cell_type": "code",
      "metadata": {
        "id": "0b9xyIwI8Wlk",
        "colab": {
          "base_uri": "https://localhost:8080/"
        },
        "outputId": "d9714394-9aeb-48b4-c5ef-d734d37fff2c"
      },
      "source": [
        "!nltk.download_gui()"
      ],
      "execution_count": null,
      "outputs": [
        {
          "output_type": "stream",
          "text": [
            "/bin/bash: -c: line 1: syntax error: unexpected end of file\n"
          ],
          "name": "stdout"
        }
      ]
    },
    {
      "cell_type": "markdown",
      "metadata": {
        "id": "orv1MjKH8Wlu"
      },
      "source": [
        "### Install NLTK components:\n",
        "    \n",
        "nltk.download_gui()\n",
        "\n",
        "#The above will open a GUI\n",
        "Select the below\n",
        "\n",
        "    stopwords from Corpa\n",
        "    averaged_perceptron_tagger from All corpus\n",
        "    wordnet\n",
        "    \n",
        "OR you can download all the nltk components by:\n",
        "    nltk.download()\n",
        "    \n",
        "Please Note: The above will take much time (30-60mins depending on Internet speed)"
      ]
    },
    {
      "cell_type": "code",
      "metadata": {
        "id": "jPhLb0rb8Wlw"
      },
      "source": [
        "import re\n",
        "import os\n",
        "import csv\n",
        "from nltk.stem.snowball import SnowballStemmer\n",
        "import random\n",
        "from nltk.classify import SklearnClassifier\n",
        "from nltk.tokenize import RegexpTokenizer\n",
        "from nltk.corpus import stopwords\n",
        "from nltk.stem.wordnet import WordNetLemmatizer\n",
        "import numpy as np\n",
        "import pandas as pd"
      ],
      "execution_count": null,
      "outputs": []
    },
    {
      "cell_type": "code",
      "metadata": {
        "id": "uK1dxfmI8Wl3"
      },
      "source": [
        "## Get multiple outputs in the same cell\n",
        "from IPython.core.interactiveshell import InteractiveShell\n",
        "InteractiveShell.ast_node_interactivity = \"all\"\n",
        "\n",
        "## Ignore all warnings\n",
        "import warnings\n",
        "warnings.filterwarnings('ignore')\n",
        "warnings.filterwarnings(action='ignore', category=DeprecationWarning)"
      ],
      "execution_count": null,
      "outputs": []
    },
    {
      "cell_type": "code",
      "metadata": {
        "id": "_wO508d-8Wl_"
      },
      "source": [
        "## Display all rows and columns of a dataframe instead of a truncated version\n",
        "from IPython.display import display\n",
        "pd.set_option('display.max_columns', None)\n",
        "pd.set_option('display.max_rows', None)"
      ],
      "execution_count": null,
      "outputs": []
    },
    {
      "cell_type": "markdown",
      "metadata": {
        "id": "Q4QsLMU98WmG"
      },
      "source": [
        "## Preprocess"
      ]
    },
    {
      "cell_type": "code",
      "metadata": {
        "id": "c0kKvS-u8WmI"
      },
      "source": [
        "sentence = \"The Big brown fox jumped over a lazy dog.\"\n",
        "sentence2 = \"This is particularly important in today's world where we are swamped with unstructured natural language data on the variety of social media platforms people engage in now-a-days (note -  now-a-days in the decade of 2010-2020)\""
      ],
      "execution_count": null,
      "outputs": []
    },
    {
      "cell_type": "code",
      "metadata": {
        "id": "vACd045G8WmR",
        "colab": {
          "base_uri": "https://localhost:8080/",
          "height": 70
        },
        "outputId": "b830e2d5-381c-4c93-d51e-827fe47a8fcd"
      },
      "source": [
        "#convert sentence to lower case\n",
        "'This' == 'this'\n",
        "print('AbcdEFgH'.lower())\n",
        "sentence.lower()\n",
        "sentence2.lower()"
      ],
      "execution_count": null,
      "outputs": [
        {
          "output_type": "execute_result",
          "data": {
            "text/plain": [
              "False"
            ]
          },
          "metadata": {
            "tags": []
          },
          "execution_count": 9
        },
        {
          "output_type": "stream",
          "text": [
            "abcdefgh\n"
          ],
          "name": "stdout"
        },
        {
          "output_type": "execute_result",
          "data": {
            "application/vnd.google.colaboratory.intrinsic+json": {
              "type": "string"
            },
            "text/plain": [
              "'the big brown fox jumped over a lazy dog.'"
            ]
          },
          "metadata": {
            "tags": []
          },
          "execution_count": 9
        },
        {
          "output_type": "execute_result",
          "data": {
            "application/vnd.google.colaboratory.intrinsic+json": {
              "type": "string"
            },
            "text/plain": [
              "\"this is particularly important in today's world where we are swamped with unstructured natural language data on the variety of social media platforms people engage in now-a-days (note -  now-a-days in the decade of 2010-2020)\""
            ]
          },
          "metadata": {
            "tags": []
          },
          "execution_count": 9
        }
      ]
    },
    {
      "cell_type": "markdown",
      "metadata": {
        "id": "zd1is59O8Wmb"
      },
      "source": [
        "### Tokenize - extract individual words"
      ]
    },
    {
      "cell_type": "code",
      "metadata": {
        "id": "32M7aGw_8Wmc",
        "colab": {
          "base_uri": "https://localhost:8080/"
        },
        "outputId": "31025287-a5cd-4dab-dfdd-2b3785baf619"
      },
      "source": [
        "tokenizer = RegexpTokenizer(r'\\w+')\n",
        "tokens = tokenizer.tokenize(sentence)\n",
        "tokens\n",
        "tokens2 = tokenizer.tokenize(sentence2)\n",
        "tokens2"
      ],
      "execution_count": null,
      "outputs": [
        {
          "output_type": "execute_result",
          "data": {
            "text/plain": [
              "['The', 'Big', 'brown', 'fox', 'jumped', 'over', 'a', 'lazy', 'dog']"
            ]
          },
          "metadata": {
            "tags": []
          },
          "execution_count": 10
        },
        {
          "output_type": "execute_result",
          "data": {
            "text/plain": [
              "['This',\n",
              " 'is',\n",
              " 'particularly',\n",
              " 'important',\n",
              " 'in',\n",
              " 'today',\n",
              " 's',\n",
              " 'world',\n",
              " 'where',\n",
              " 'we',\n",
              " 'are',\n",
              " 'swamped',\n",
              " 'with',\n",
              " 'unstructured',\n",
              " 'natural',\n",
              " 'language',\n",
              " 'data',\n",
              " 'on',\n",
              " 'the',\n",
              " 'variety',\n",
              " 'of',\n",
              " 'social',\n",
              " 'media',\n",
              " 'platforms',\n",
              " 'people',\n",
              " 'engage',\n",
              " 'in',\n",
              " 'now',\n",
              " 'a',\n",
              " 'days',\n",
              " 'note',\n",
              " 'now',\n",
              " 'a',\n",
              " 'days',\n",
              " 'in',\n",
              " 'the',\n",
              " 'decade',\n",
              " 'of',\n",
              " '2010',\n",
              " '2020']"
            ]
          },
          "metadata": {
            "tags": []
          },
          "execution_count": 10
        }
      ]
    },
    {
      "cell_type": "markdown",
      "metadata": {
        "id": "kTNescG78Wmj"
      },
      "source": [
        "### Stopwords : Filter words to remove non-useful words"
      ]
    },
    {
      "cell_type": "code",
      "metadata": {
        "id": "aS_3-uAK8Wmk",
        "colab": {
          "base_uri": "https://localhost:8080/"
        },
        "outputId": "d3b80a09-3388-4d54-ed32-0bc0a960cdfe"
      },
      "source": [
        "import nltk\n",
        "nltk.download('stopwords')\n",
        "filtered_words = [w for w in tokens if not w in stopwords.words('english')]\n",
        "filtered_words"
      ],
      "execution_count": null,
      "outputs": [
        {
          "output_type": "stream",
          "text": [
            "[nltk_data] Downloading package stopwords to /root/nltk_data...\n",
            "[nltk_data]   Unzipping corpora/stopwords.zip.\n"
          ],
          "name": "stdout"
        },
        {
          "output_type": "execute_result",
          "data": {
            "text/plain": [
              "True"
            ]
          },
          "metadata": {
            "tags": []
          },
          "execution_count": 12
        },
        {
          "output_type": "execute_result",
          "data": {
            "text/plain": [
              "['The', 'Big', 'brown', 'fox', 'jumped', 'lazy', 'dog']"
            ]
          },
          "metadata": {
            "tags": []
          },
          "execution_count": 12
        }
      ]
    },
    {
      "cell_type": "code",
      "metadata": {
        "id": "-z5Tr-Pl8Wmr",
        "colab": {
          "base_uri": "https://localhost:8080/"
        },
        "outputId": "4632bce9-1e2a-4f97-f333-f312ce36c746"
      },
      "source": [
        "filtered_words = [w for w in tokens2 if not w in stopwords.words('english')]\n",
        "filtered_words"
      ],
      "execution_count": null,
      "outputs": [
        {
          "output_type": "execute_result",
          "data": {
            "text/plain": [
              "['This',\n",
              " 'particularly',\n",
              " 'important',\n",
              " 'today',\n",
              " 'world',\n",
              " 'swamped',\n",
              " 'unstructured',\n",
              " 'natural',\n",
              " 'language',\n",
              " 'data',\n",
              " 'variety',\n",
              " 'social',\n",
              " 'media',\n",
              " 'platforms',\n",
              " 'people',\n",
              " 'engage',\n",
              " 'days',\n",
              " 'note',\n",
              " 'days',\n",
              " 'decade',\n",
              " '2010',\n",
              " '2020']"
            ]
          },
          "metadata": {
            "tags": []
          },
          "execution_count": 13
        }
      ]
    },
    {
      "cell_type": "code",
      "metadata": {
        "id": "eODvCt_E8Wmy"
      },
      "source": [
        "def preprocess(sentence):\n",
        "    sentence = sentence.lower()\n",
        "    tokenizer = RegexpTokenizer(r'\\w+')\n",
        "    tokens = tokenizer.tokenize(sentence)\n",
        "    filtered_words = [w for w in tokens if not w in stopwords.words('english')]\n",
        "    return filtered_words"
      ],
      "execution_count": null,
      "outputs": []
    },
    {
      "cell_type": "code",
      "metadata": {
        "id": "0UpLeqrp8Wm6",
        "colab": {
          "base_uri": "https://localhost:8080/"
        },
        "outputId": "f512915e-5665-4042-9421-cee0bb90b607"
      },
      "source": [
        "preprocessed_sentence = preprocess(sentence)\n",
        "print(preprocessed_sentence)"
      ],
      "execution_count": null,
      "outputs": [
        {
          "output_type": "stream",
          "text": [
            "['big', 'brown', 'fox', 'jumped', 'lazy', 'dog']\n"
          ],
          "name": "stdout"
        }
      ]
    },
    {
      "cell_type": "code",
      "metadata": {
        "id": "jOH5lkx48WnD",
        "colab": {
          "base_uri": "https://localhost:8080/"
        },
        "outputId": "f7780ce8-fa75-4f9b-e5f4-82b07d867ed9"
      },
      "source": [
        "preprocess(sentence2)"
      ],
      "execution_count": null,
      "outputs": [
        {
          "output_type": "execute_result",
          "data": {
            "text/plain": [
              "['particularly',\n",
              " 'important',\n",
              " 'today',\n",
              " 'world',\n",
              " 'swamped',\n",
              " 'unstructured',\n",
              " 'natural',\n",
              " 'language',\n",
              " 'data',\n",
              " 'variety',\n",
              " 'social',\n",
              " 'media',\n",
              " 'platforms',\n",
              " 'people',\n",
              " 'engage',\n",
              " 'days',\n",
              " 'note',\n",
              " 'days',\n",
              " 'decade',\n",
              " '2010',\n",
              " '2020']"
            ]
          },
          "metadata": {
            "tags": []
          },
          "execution_count": 17
        }
      ]
    },
    {
      "cell_type": "markdown",
      "metadata": {
        "id": "P6-1rLZ58WnK"
      },
      "source": [
        "## Tagging"
      ]
    },
    {
      "cell_type": "code",
      "metadata": {
        "id": "42HNPrtL8WnM",
        "colab": {
          "base_uri": "https://localhost:8080/"
        },
        "outputId": "9e7b8a63-212c-44a6-d56c-f2ea6b9fa9e9"
      },
      "source": [
        "import nltk\n",
        "nltk.download('averaged_perceptron_tagger')\n",
        "tags = nltk.pos_tag(preprocessed_sentence)\n",
        "print(tags)"
      ],
      "execution_count": null,
      "outputs": [
        {
          "output_type": "stream",
          "text": [
            "[nltk_data] Downloading package averaged_perceptron_tagger to\n",
            "[nltk_data]     /root/nltk_data...\n",
            "[nltk_data]   Unzipping taggers/averaged_perceptron_tagger.zip.\n"
          ],
          "name": "stdout"
        },
        {
          "output_type": "execute_result",
          "data": {
            "text/plain": [
              "True"
            ]
          },
          "metadata": {
            "tags": []
          },
          "execution_count": 19
        },
        {
          "output_type": "stream",
          "text": [
            "[('big', 'JJ'), ('brown', 'NN'), ('fox', 'NN'), ('jumped', 'VBD'), ('lazy', 'JJ'), ('dog', 'NN')]\n"
          ],
          "name": "stdout"
        }
      ]
    },
    {
      "cell_type": "code",
      "metadata": {
        "id": "muR3kEsE8WnV",
        "outputId": "5daa8a4e-f49b-4a4a-af72-6a5ef70989e9"
      },
      "source": [
        "tags = nltk.pos_tag(preprocess(sentence2))\n",
        "print(tags)"
      ],
      "execution_count": null,
      "outputs": [
        {
          "output_type": "stream",
          "text": [
            "[('particularly', 'RB'), ('important', 'JJ'), ('today', 'NN'), ('world', 'NN'), ('swamped', 'VBD'), ('unstructured', 'JJ'), ('natural', 'JJ'), ('language', 'NN'), ('data', 'NNS'), ('variety', 'NN'), ('social', 'JJ'), ('media', 'NNS'), ('platforms', 'NNS'), ('people', 'NNS'), ('engage', 'VBP'), ('days', 'NNS'), ('note', 'VBP'), ('days', 'NNS'), ('decade', 'NN'), ('2010', 'CD'), ('2020', 'CD')]\n"
          ],
          "name": "stdout"
        }
      ]
    },
    {
      "cell_type": "markdown",
      "metadata": {
        "id": "Pc0oibxQ8Wnc"
      },
      "source": [
        "## Extracting only Nouns and Verb nouns"
      ]
    },
    {
      "cell_type": "markdown",
      "metadata": {
        "id": "3eS8pB0V8Wne"
      },
      "source": [
        "POS tag list:\n",
        "\n",
        "CC coordinating conjunction\n",
        "CD cardinal digit\n",
        "DT determiner\n",
        "EX existential there (like: \"there is\" ... think of it like \"there exists\")\n",
        "FW foreign word\n",
        "IN preposition/subordinating conjunction\n",
        "JJ adjective 'big'\n",
        "JJR adjective, comparative 'bigger'\n",
        "JJS adjective, superlative 'biggest'\n",
        "LS list marker 1)\n",
        "MD modal could, will\n",
        "NN noun, singular 'desk'\n",
        "NNS noun plural 'desks'\n",
        "NNP proper noun, singular 'Harrison'\n",
        "NNPS proper noun, plural 'Americans'\n",
        "PDT predeterminer 'all the kids'\n",
        "POS possessive ending parent's\n",
        "PRP personal pronoun I, he, she\n",
        "PRP$ possessive pronoun my, his, hers\n",
        "RB adverb very, silently,\n",
        "RBR adverb, comparative better\n",
        "RBS adverb, superlative best\n",
        "RP particle give up\n",
        "TO to go 'to' the store.\n",
        "UH interjection errrrrrrrm\n",
        "VB verb, base form take\n",
        "VBD verb, past tense took\n",
        "VBG verb, gerund/present participle taking\n",
        "VBN verb, past participle taken\n",
        "VBP verb, sing. present, non-3d take\n",
        "VBZ verb, 3rd person sing. present takes\n",
        "WDT wh-determiner which\n",
        "WP wh-pronoun who, what\n",
        "WP$ possessive wh-pronoun whose\n",
        "WRB wh-abverb where, when"
      ]
    },
    {
      "cell_type": "code",
      "metadata": {
        "id": "nVlFFFS48Wnf"
      },
      "source": [
        "def extract_tagged(sentences):\n",
        "    features = []\n",
        "    for tagged_word in sentences:\n",
        "        word, tag = tagged_word\n",
        "        if tag=='NN' or tag == 'VBN' or tag == 'NNS' or tag == 'VBP' or tag == 'RB' or tag == 'VBZ' or tag == 'VBG' or tag =='PRP' or tag == 'JJ':\n",
        "            features.append(word)\n",
        "    return features"
      ],
      "execution_count": null,
      "outputs": []
    },
    {
      "cell_type": "code",
      "metadata": {
        "id": "lEziP9rV8Wno",
        "colab": {
          "base_uri": "https://localhost:8080/"
        },
        "outputId": "4ba0ed5c-182d-4f2c-aa29-7f52beca3b62"
      },
      "source": [
        "extract_tagged(tags)"
      ],
      "execution_count": null,
      "outputs": [
        {
          "output_type": "execute_result",
          "data": {
            "text/plain": [
              "['big', 'brown', 'fox', 'lazy', 'dog']"
            ]
          },
          "metadata": {
            "tags": []
          },
          "execution_count": 21
        }
      ]
    },
    {
      "cell_type": "markdown",
      "metadata": {
        "id": "srCCiNwT8Wnw"
      },
      "source": [
        "## Lemmatize words"
      ]
    },
    {
      "cell_type": "code",
      "metadata": {
        "id": "-hLGFbGT8Wnx",
        "colab": {
          "base_uri": "https://localhost:8080/"
        },
        "outputId": "7084fcbe-e494-4956-85b8-44cd7d538ae5"
      },
      "source": [
        "import nltk\n",
        "nltk.download('wordnet')\n",
        "lmtzr = WordNetLemmatizer()\n",
        "print(lmtzr.lemmatize('cacti'))\n",
        "print(lmtzr.lemmatize('willing'))\n",
        "print(lmtzr.lemmatize('feet'))\n",
        "print(lmtzr.lemmatize('stemmed'))\n",
        "\n",
        "print(lmtzr.lemmatize('cactus'))"
      ],
      "execution_count": null,
      "outputs": [
        {
          "output_type": "stream",
          "text": [
            "[nltk_data] Downloading package wordnet to /root/nltk_data...\n",
            "[nltk_data]   Unzipping corpora/wordnet.zip.\n"
          ],
          "name": "stdout"
        },
        {
          "output_type": "execute_result",
          "data": {
            "text/plain": [
              "True"
            ]
          },
          "metadata": {
            "tags": []
          },
          "execution_count": 23
        },
        {
          "output_type": "stream",
          "text": [
            "cactus\n",
            "willing\n",
            "foot\n",
            "stemmed\n",
            "cactus\n"
          ],
          "name": "stdout"
        }
      ]
    },
    {
      "cell_type": "code",
      "metadata": {
        "id": "9X-L9cWG8Wn7"
      },
      "source": [
        ""
      ],
      "execution_count": null,
      "outputs": []
    },
    {
      "cell_type": "code",
      "metadata": {
        "id": "WOyz6x5N8WoD"
      },
      "source": [
        ""
      ],
      "execution_count": null,
      "outputs": []
    },
    {
      "cell_type": "markdown",
      "metadata": {
        "id": "NzuAk5k68WoK"
      },
      "source": [
        "## Stem words"
      ]
    },
    {
      "cell_type": "code",
      "metadata": {
        "id": "K60X_aZh8WoL"
      },
      "source": [
        "words_for_stemming = ['stem', 'stemming', 'stemmed', 'stemmer', 'stems','feet','willing']"
      ],
      "execution_count": null,
      "outputs": []
    },
    {
      "cell_type": "code",
      "metadata": {
        "id": "t_6yMsTN8WoS",
        "colab": {
          "base_uri": "https://localhost:8080/"
        },
        "outputId": "14a45498-d1ce-4521-94bf-df4856fd71b3"
      },
      "source": [
        "stemmer = SnowballStemmer(\"english\")\n",
        "[stemmer.stem(x) for x in words_for_stemming]"
      ],
      "execution_count": null,
      "outputs": [
        {
          "output_type": "execute_result",
          "data": {
            "text/plain": [
              "['stem', 'stem', 'stem', 'stemmer', 'stem', 'feet', 'will']"
            ]
          },
          "metadata": {
            "tags": []
          },
          "execution_count": 25
        }
      ]
    },
    {
      "cell_type": "markdown",
      "metadata": {
        "id": "-Vl3nucx8WoY"
      },
      "source": [
        "## Putting it all together"
      ]
    },
    {
      "cell_type": "code",
      "metadata": {
        "id": "CaKdQsR18WoZ"
      },
      "source": [
        "def extract_feature(text):\n",
        "    words = preprocess(text)\n",
        "#     print('words: ',words)\n",
        "    tags = nltk.pos_tag(words)\n",
        "#     print('tags: ',tags)\n",
        "    extracted_features = extract_tagged(tags)\n",
        "#     print('Extracted features: ',extracted_features)\n",
        "    stemmed_words = [stemmer.stem(x) for x in extracted_features]\n",
        "#     print(stemmed_words)\n",
        "\n",
        "    result = [lmtzr.lemmatize(x) for x in stemmed_words]\n",
        "   \n",
        "    return result"
      ],
      "execution_count": null,
      "outputs": []
    },
    {
      "cell_type": "code",
      "metadata": {
        "id": "cB-muwZH8Woh",
        "colab": {
          "base_uri": "https://localhost:8080/",
          "height": 35
        },
        "outputId": "a8e2bd85-e12c-4a21-9f55-da96e9129182"
      },
      "source": [
        "sentence"
      ],
      "execution_count": null,
      "outputs": [
        {
          "output_type": "execute_result",
          "data": {
            "application/vnd.google.colaboratory.intrinsic+json": {
              "type": "string"
            },
            "text/plain": [
              "'The Big brown fox jumped over a lazy dog.'"
            ]
          },
          "metadata": {
            "tags": []
          },
          "execution_count": 27
        }
      ]
    },
    {
      "cell_type": "code",
      "metadata": {
        "id": "ubyHhD868Woo",
        "colab": {
          "base_uri": "https://localhost:8080/"
        },
        "outputId": "d86f1781-2f94-4bc9-dab5-792af6c19483"
      },
      "source": [
        "words = extract_feature(sentence)\n",
        "print(words)"
      ],
      "execution_count": null,
      "outputs": [
        {
          "output_type": "stream",
          "text": [
            "['big', 'brown', 'fox', 'lazi', 'dog']\n"
          ],
          "name": "stdout"
        }
      ]
    },
    {
      "cell_type": "code",
      "metadata": {
        "id": "O40lenFj8Wot",
        "colab": {
          "base_uri": "https://localhost:8080/"
        },
        "outputId": "f7ebbce7-8ee7-428e-bfdd-b47b2f98b0c0"
      },
      "source": [
        "words = extract_feature(sentence2)\n",
        "print(words)"
      ],
      "execution_count": null,
      "outputs": [
        {
          "output_type": "stream",
          "text": [
            "['particular', 'import', 'today', 'world', 'unstructur', 'natur', 'languag', 'data', 'varieti', 'social', 'medium', 'platform', 'peopl', 'engag', 'day', 'note', 'day', 'decad']\n"
          ],
          "name": "stdout"
        }
      ]
    },
    {
      "cell_type": "code",
      "metadata": {
        "id": "EVCgGT0J8Wo0",
        "colab": {
          "base_uri": "https://localhost:8080/"
        },
        "outputId": "9654a3b6-4e36-4488-b8c0-f6451e094eb8"
      },
      "source": [
        "extract_feature(\"He hurt his right foot while he was wearing white shoes on his feet\")"
      ],
      "execution_count": null,
      "outputs": [
        {
          "output_type": "execute_result",
          "data": {
            "text/plain": [
              "['hurt', 'right', 'foot', 'wear', 'white', 'shoe', 'foot']"
            ]
          },
          "metadata": {
            "tags": []
          },
          "execution_count": 30
        }
      ]
    },
    {
      "cell_type": "markdown",
      "metadata": {
        "id": "43xsAUeD8Wo6"
      },
      "source": [
        "## Implementing bag of words"
      ]
    },
    {
      "cell_type": "markdown",
      "metadata": {
        "id": "SJcNHA1t8Wo8"
      },
      "source": [
        "In simple terms, it’s a collection of words to represent a sentence, disregarding the order in which they appear."
      ]
    },
    {
      "cell_type": "code",
      "metadata": {
        "id": "Qf2-OFMY8Wo-"
      },
      "source": [
        "def word_feats(words):\n",
        "    return dict([(word, True) for word in words])"
      ],
      "execution_count": null,
      "outputs": []
    },
    {
      "cell_type": "code",
      "metadata": {
        "id": "gY7RhNNB8WpF",
        "colab": {
          "base_uri": "https://localhost:8080/"
        },
        "outputId": "5ba8020c-4400-4ce2-dc28-915f93ae6c05"
      },
      "source": [
        "word_feats(words)"
      ],
      "execution_count": null,
      "outputs": [
        {
          "output_type": "execute_result",
          "data": {
            "text/plain": [
              "{'data': True,\n",
              " 'day': True,\n",
              " 'decad': True,\n",
              " 'engag': True,\n",
              " 'import': True,\n",
              " 'languag': True,\n",
              " 'medium': True,\n",
              " 'natur': True,\n",
              " 'note': True,\n",
              " 'particular': True,\n",
              " 'peopl': True,\n",
              " 'platform': True,\n",
              " 'social': True,\n",
              " 'today': True,\n",
              " 'unstructur': True,\n",
              " 'varieti': True,\n",
              " 'world': True}"
            ]
          },
          "metadata": {
            "tags": []
          },
          "execution_count": 32
        }
      ]
    },
    {
      "cell_type": "markdown",
      "metadata": {
        "id": "hG3Ohsj78WpM"
      },
      "source": [
        "## Parsing the whole document"
      ]
    },
    {
      "cell_type": "code",
      "metadata": {
        "id": "wzwVCXdc8WpN"
      },
      "source": [
        "def extract_feature_from_doc(data):\n",
        "    result = []\n",
        "    corpus = []\n",
        "    # The responses of the chat bot\n",
        "    answers = {}\n",
        "    for (text,category,answer) in data:\n",
        "\n",
        "        features = extract_feature(text)\n",
        "\n",
        "        corpus.append(features)\n",
        "        result.append((word_feats(features), category))\n",
        "        answers[category] = answer\n",
        "\n",
        "    return (result, sum(corpus,[]), answers)"
      ],
      "execution_count": null,
      "outputs": []
    },
    {
      "cell_type": "code",
      "metadata": {
        "id": "3LwiQ0Yb8WpV",
        "colab": {
          "base_uri": "https://localhost:8080/"
        },
        "outputId": "e187d43e-a545-4b33-e927-8542678638b5"
      },
      "source": [
        "extract_feature_from_doc([['this is the input text from the user','category','answer to give']])"
      ],
      "execution_count": null,
      "outputs": [
        {
          "output_type": "execute_result",
          "data": {
            "text/plain": [
              "([({'input': True, 'user': True}, 'category')],\n",
              " ['input', 'user'],\n",
              " {'category': 'answer to give'})"
            ]
          },
          "metadata": {
            "tags": []
          },
          "execution_count": 34
        }
      ]
    },
    {
      "cell_type": "code",
      "metadata": {
        "id": "ln_4C2V58Wpb"
      },
      "source": [
        "def get_content(filename):\n",
        "    doc = os.path.join(filename)\n",
        "    with open(doc, 'r') as content_file:\n",
        "        lines = csv.reader(content_file,delimiter='|')\n",
        "        data = [x for x in lines if len(x) == 3]\n",
        "        return data"
      ],
      "execution_count": null,
      "outputs": []
    },
    {
      "cell_type": "code",
      "metadata": {
        "id": "f8fBJftR8Wpi"
      },
      "source": [
        "filename = \"leave.txt\"\n",
        "data = get_content(filename)"
      ],
      "execution_count": null,
      "outputs": []
    },
    {
      "cell_type": "code",
      "metadata": {
        "id": "cU6gpgC38Wpq",
        "colab": {
          "base_uri": "https://localhost:8080/"
        },
        "outputId": "fb309e26-f956-407a-9ba8-6b378123508a"
      },
      "source": [
        "data"
      ],
      "execution_count": null,
      "outputs": [
        {
          "output_type": "execute_result",
          "data": {
            "text/plain": [
              "[['Hello',\n",
              "  'Greetings',\n",
              "  'Hello. I am Dexter. I will serve your leave enquiries.'],\n",
              " ['hi hello',\n",
              "  'Greetings',\n",
              "  'Hello. I am Dexter. I will serve your leave enquiries.'],\n",
              " ['hi ',\n",
              "  'Greetings',\n",
              "  'Hello. I am Dexter. I will serve your leave enquiries.'],\n",
              " ['hi', 'Greetings', 'Hello. I am Dexter. I will serve your leave enquiries.'],\n",
              " ['hi', 'Greetings', 'Hello. I am Dexter. I will serve your leave enquiries.'],\n",
              " ['hey',\n",
              "  'Greetings',\n",
              "  'Hello. I am Dexter. I will serve your leave enquiries.'],\n",
              " ['hello, hi',\n",
              "  'Greetings',\n",
              "  'Hello. I am Dexter. I will serve your leave enquiries.'],\n",
              " ['hey',\n",
              "  'Greetings',\n",
              "  'Hello. I am Dexter. I will serve your leave enquiries.'],\n",
              " ['hey, hi',\n",
              "  'Greetings',\n",
              "  'Hello. I am Dexter. I will serve your leave enquiries.'],\n",
              " ['hey, hello',\n",
              "  'Greetings',\n",
              "  'Hello. I am Dexter. I will serve your leave enquiries.'],\n",
              " ['Good morning',\n",
              "  'Morning',\n",
              "  'Good Morning. I am Dexter. I will serve your leave enquiries.'],\n",
              " ['Good afternoon',\n",
              "  'Afternoon',\n",
              "  'Good afternoon. I am Dexter. I will serve your leave enquiries.'],\n",
              " ['Good evening',\n",
              "  'Evening',\n",
              "  'Good evening. I am Dexter. I will serve your leave enquiries.'],\n",
              " ['Good night', 'Goodbye', 'Good night. Take care.'],\n",
              " ['How are you today?', 'Opening', \"I'm fine! Thank you. How can I help you?\"],\n",
              " ['want help', 'Help', 'How can I help you?'],\n",
              " ['need help', 'Help', 'How can I help you?'],\n",
              " ['help me', 'Help', 'How can I help you?'],\n",
              " [\"I don't want your help.\",\n",
              "  'No-Help',\n",
              "  'Ok sir/madam. No problem. Have a nice day.'],\n",
              " [\"I don't want your assistance\",\n",
              "  'No-Help',\n",
              "  'Ok sir/madam. No problem. Have a nice day.'],\n",
              " ['No help required', 'No-Help', 'Ok sir/madam. No problem. Have a nice day.'],\n",
              " ['It has been great talking to you.',\n",
              "  'Closing',\n",
              "  \"It's glad to know that I have been helpful. Have a good day!\"],\n",
              " ['great',\n",
              "  'Closing',\n",
              "  \"It's glad to know that I have been helpful. Have a good day!\"],\n",
              " ['thank you for your help',\n",
              "  'Closing',\n",
              "  \"It's glad to know that I have been helpful. Have a good day!\"],\n",
              " ['thank you',\n",
              "  'Closing',\n",
              "  \"It's glad to know that I have been helpful. Have a good day!\"],\n",
              " ['thank you very much',\n",
              "  'Closing',\n",
              "  \"It's glad to know that I have been helpful. Have a good day!\"],\n",
              " ['thanks.',\n",
              "  'Closing',\n",
              "  \"You're welcome!It's glad to know that I have been helpful. Have a good day!\"],\n",
              " ['thanks very much',\n",
              "  'Closing',\n",
              "  \"It's glad to know that I have been helpful. Have a good day!\"],\n",
              " ['How many types of leaves are there?',\n",
              "  'Leaves-Type',\n",
              "  'Currently I know about two: annual and optional leaves.'],\n",
              " ['types of leaves?',\n",
              "  'Leaves-Type',\n",
              "  'Currently I know about two: annual and optional leaves.'],\n",
              " ['type leaves?',\n",
              "  'Leaves-Type',\n",
              "  'Currently I know about two: annual and optional leaves.'],\n",
              " ['leave type?',\n",
              "  'Leaves-Type',\n",
              "  'Currently I know about two: annual and optional leaves.'],\n",
              " ['leaves type?',\n",
              "  'Leaves-Type',\n",
              "  'Currently I know about two: annual and optional leaves.'],\n",
              " ['How many leaves have I taken?',\n",
              "  'Default-Utilized-Annual-Leaves',\n",
              "  'You have used 12 annual leaves.'],\n",
              " ['How many leaves I have already taken?',\n",
              "  'Default-Utilized-Annual-Leaves',\n",
              "  'You have used 12 annual leaves.'],\n",
              " ['how many annual leaves I took?',\n",
              "  'Utilized-Annual-Leaves',\n",
              "  'You have taken 12 annual leaves.'],\n",
              " ['How many annual leaves have I taken?',\n",
              "  'Utilized-Annual-Leaves',\n",
              "  'You have taken 12 annual leaves.'],\n",
              " ['How many annual leaves I have already taken?',\n",
              "  'Utilized-Annual-Leaves',\n",
              "  'You have taken 12 annual leaves.'],\n",
              " ['Tell me the annual leaves count I have taken?',\n",
              "  'Utilized-Annual-Leaves',\n",
              "  'You have taken 12 annual leaves.'],\n",
              " ['How many annual leaves have I taken?',\n",
              "  'Utilized-Annual-Leaves',\n",
              "  'You have taken 12 annual leaves.'],\n",
              " ['number of annual leaves taken?',\n",
              "  'Utilized-Annual-Leaves',\n",
              "  'You have taken 12 annual leaves.'],\n",
              " ['annual leaves taken?',\n",
              "  'Utilized-Annual-Leaves',\n",
              "  'You have taken 12 annual leaves.'],\n",
              " ['number of annual leaves already taken?',\n",
              "  'Utilized-Annual-Leaves',\n",
              "  'You have taken 12 annual leaves.'],\n",
              " ['annual leaves taken?',\n",
              "  'Utilized-Annual-Leaves',\n",
              "  'You have taken 12 annual leaves.'],\n",
              " ['annual leaves already taken?',\n",
              "  'Utilized-Annual-Leaves',\n",
              "  'You have taken 12 annual leaves.'],\n",
              " ['Tell me number of annual leaves I have taken',\n",
              "  'Utilized-Annual-Leaves',\n",
              "  'You have taken 12 annual leaves.'],\n",
              " ['number of annual leaves used?',\n",
              "  'Utilized-Annual-Leaves',\n",
              "  'You have taken 12 annual leaves.'],\n",
              " ['my taken annual leaves',\n",
              "  'Utilized-Annual-Leaves',\n",
              "  'You have taken 12 annual leaves.'],\n",
              " ['annual leaves used?',\n",
              "  'Utilized-Annual-Leaves',\n",
              "  'You have taken 12 annual leaves.'],\n",
              " ['How many optional leaves have I taken',\n",
              "  'Utilized-Optional-Leaves',\n",
              "  'You have taken 1 optional leaves.'],\n",
              " ['How many optional leaves I took',\n",
              "  'Utilized-Optional-Leaves',\n",
              "  'You have taken 1 optional leaves.'],\n",
              " ['optional leaves taken',\n",
              "  'Utilized-Optional-Leaves',\n",
              "  'You have taken 1 optional leaves.'],\n",
              " ['number of optional leaves I have taken?',\n",
              "  'Utilized-Optional-Leaves',\n",
              "  'You have taken 1 optional leaves.'],\n",
              " ['tell me the optional leaves count I have taken',\n",
              "  'Utilized-Optional-Leaves',\n",
              "  'You have taken 1 optional leaves.'],\n",
              " ['tell me number of optional leaves I have taken',\n",
              "  'Utilized-Optional-Leaves',\n",
              "  'You have taken 1 optional leaves.'],\n",
              " ['can you tell me number of optional leaves I have taken',\n",
              "  'Utilized-Optional-Leaves',\n",
              "  'You have taken 1 optional leaves.'],\n",
              " ['please tell me number of optional leaves I have taken',\n",
              "  'Utilized-Optional-Leaves',\n",
              "  'You have taken 1 optional leaves.'],\n",
              " ['How many optional leaves have I taken?',\n",
              "  'Utilized-Optional-Leaves',\n",
              "  'You have taken 1 optional leaves.'],\n",
              " ['number of optional leaves taken?',\n",
              "  'Utilized-Optional-Leaves',\n",
              "  'You have taken 1 optional leaves.'],\n",
              " ['number of optional leaves already taken?',\n",
              "  'Utilized-Optional-Leaves',\n",
              "  'You have taken 1 optional leaves.'],\n",
              " ['optional leaves taken?',\n",
              "  'Utilized-Optional-Leaves',\n",
              "  'You have taken 1 optional leaves.'],\n",
              " ['optional leaves already taken?',\n",
              "  'Utilized-Optional-Leaves',\n",
              "  'You have taken 1 optional leaves.'],\n",
              " ['please tell me number of optional leaves I have used.',\n",
              "  'Utilized-Optional-Leaves',\n",
              "  'You have taken 1 optional leaves.'],\n",
              " ['please tell me number of optional leaves I have used',\n",
              "  'Utilized-Optional-Leaves',\n",
              "  'You have taken 1 optional leaves.'],\n",
              " ['tell me the optional leaves count I have used.',\n",
              "  'Utilized-Optional-Leaves',\n",
              "  'You have taken 1 optional leaves.'],\n",
              " ['tell me the optional leaves count I have used',\n",
              "  'Utilized-Optional-Leaves',\n",
              "  'You have taken 1 optional leaves.'],\n",
              " ['the optional leaves count I have used',\n",
              "  'Utilized-Optional-Leaves',\n",
              "  'You have taken 1 optional leaves.'],\n",
              " ['the optional leaves count I have used?',\n",
              "  'Utilized-Optional-Leaves',\n",
              "  'You have taken 1 optional leaves.'],\n",
              " ['tell me the optional leaves count I have taken',\n",
              "  'Utilized-Optional-Leaves',\n",
              "  'You have taken 1 optional leaves.'],\n",
              " ['tell me the optional leaves count I have taken',\n",
              "  'Utilized-Optional-Leaves',\n",
              "  'You have taken 1 optional leaves.'],\n",
              " ['tell me the optional leaves count I have taken',\n",
              "  'Utilized-Optional-Leaves',\n",
              "  'You have taken 1 optional leaves.'],\n",
              " ['How many optional leaves have I used',\n",
              "  'Utilized-Optional-Leaves',\n",
              "  'You have taken 1 optional leaves.'],\n",
              " ['How many optional leaves have I used?',\n",
              "  'Utilized-Optional-Leaves',\n",
              "  'You have taken 1 optional leaves.'],\n",
              " ['number of optional leaves used?',\n",
              "  'Utilized-Optional-Leaves',\n",
              "  'You have taken 1 optional leaves.'],\n",
              " ['optional leaves used?',\n",
              "  'Utilized-Optional-Leaves',\n",
              "  'You have taken 1 optional leaves.'],\n",
              " ['How many leaves do I have?',\n",
              "  'Default-Balance-Annual-Leaves',\n",
              "  'You have 25 annual leaves left.'],\n",
              " ['How many leaves can I take?',\n",
              "  'Default-Balance-Annual-Leaves',\n",
              "  'You have 25 annual leaves left.'],\n",
              " ['How many leaves are remaining?',\n",
              "  'Default-Balance-Annual-Leaves',\n",
              "  'You have 25 annual leaves left.'],\n",
              " ['remaining leaves.',\n",
              "  'Default-Balance-Annual-Leaves',\n",
              "  'You have 25 annual leaves left.'],\n",
              " ['What are my leaves?',\n",
              "  'Default-Balance-Annual-Leaves',\n",
              "  'You have 25 annual leaves left.'],\n",
              " ['Tell me my leave balance.',\n",
              "  'Default-Balance-Annual-Leaves',\n",
              "  'You have 25 annual leaves left.'],\n",
              " ['my remaining leaves.',\n",
              "  'Default-Balance-Annual-Leaves',\n",
              "  'You have 25 annual leaves left.'],\n",
              " ['leave balance.',\n",
              "  'Default-Balance-Annual-Leaves',\n",
              "  'You have 25 annual leaves left.'],\n",
              " ['leaves pending.',\n",
              "  'Default-Balance-Annual-Leaves',\n",
              "  'You have 25 annual leaves left.'],\n",
              " ['tell me the annual leaves count I have remaining',\n",
              "  'Balance-Annual-Leaves',\n",
              "  'You have 25 annual leaves remaining.'],\n",
              " ['How many annual leaves do I have?',\n",
              "  'Balance-Annual-Leaves',\n",
              "  'You have 25 annual leaves remaining.'],\n",
              " ['What are my annual leaves?',\n",
              "  'Balance-Annual-Leaves',\n",
              "  'You have 25 annual leaves remaining.'],\n",
              " ['What is my annual leave balance?',\n",
              "  'Balance-Annual-Leaves',\n",
              "  'You have 25 annual leaves remaining.'],\n",
              " ['Tell me my annual leaves.',\n",
              "  'Balance-Annual-Leaves',\n",
              "  'You have 25 annual leaves remaining.'],\n",
              " ['How many annual leaves are remaining?',\n",
              "  'Balance-Annual-Leaves',\n",
              "  'You have 25 annual leaves remaining.'],\n",
              " ['Tell me my annual leaves remaining',\n",
              "  'Balance-Annual-Leaves',\n",
              "  'You have 25 annual leaves remaining.'],\n",
              " ['remaining annual leaves.',\n",
              "  'Balance-Annual-Leaves',\n",
              "  'You have 25 annual leaves remaining.'],\n",
              " ['annual leaves remaining.',\n",
              "  'Balance-Annual-Leaves',\n",
              "  'You have 25 annual leaves remaining.'],\n",
              " ['number of annual leaves remaining.',\n",
              "  'Balance-Annual-Leaves',\n",
              "  'You have 25 annual leaves remaining.'],\n",
              " ['number of annual leaves I have?',\n",
              "  'Balance-Annual-Leaves',\n",
              "  'You have 25 annual leaves remaining.'],\n",
              " ['annual leaves remaining.',\n",
              "  'Balance-Annual-Leaves',\n",
              "  'You have 25 annual leaves remaining.'],\n",
              " ['Please tell me the annual leaves count I have remaining.',\n",
              "  'Balance-Annual-Leaves',\n",
              "  'You have 25 annual leaves remaining.'],\n",
              " ['Tell me the annual leaves count I have remaining.',\n",
              "  'Balance-Annual-Leaves',\n",
              "  'You have 25 annual leaves remaining.'],\n",
              " ['the annual leaves count I have remaining.',\n",
              "  'Balance-Annual-Leaves',\n",
              "  'You have 25 annual leaves remaining.'],\n",
              " ['my annual leaves count remaining.',\n",
              "  'Balance-Annual-Leaves',\n",
              "  'You have 25 annual leaves remaining.'],\n",
              " ['Tell me my annual leave balance.',\n",
              "  'Balance-Annual-Leaves',\n",
              "  'You have 25 annual leaves remaining.'],\n",
              " ['annual leave balance.',\n",
              "  'Balance-Annual-Leaves',\n",
              "  'You have 25 annual leaves remaining.'],\n",
              " ['annual leaves.',\n",
              "  'Balance-Annual-Leaves',\n",
              "  'You have 25 annual leaves remaining.'],\n",
              " ['can you tell me number of annual leaves I have remaining',\n",
              "  'Balance-Annual-Leaves',\n",
              "  'You have 25 annual leaves remaining.'],\n",
              " ['please tell me number of annual leaves I have remaining',\n",
              "  'Balance-Annual-Leaves',\n",
              "  'You have 25 annual leaves remaining.'],\n",
              " ['How many optional leaves are remaining?',\n",
              "  'Balance-Optional-Leaves',\n",
              "  'You have 2 optional leaves remaining.'],\n",
              " ['optional leaves remaining?',\n",
              "  'Balance-Optional-Leaves',\n",
              "  'You have 2 optional leaves remaining.'],\n",
              " ['number of optional leaves I have remaining?',\n",
              "  'Balance-Optional-Leaves',\n",
              "  'You have 2 optional leaves remaining.'],\n",
              " ['How many optional leaves do I have?',\n",
              "  'Balance-Optional-Leaves',\n",
              "  'You have 2 optional leaves remaining.'],\n",
              " ['How many optional leaves do I have',\n",
              "  'Balance-Optional-Leaves',\n",
              "  'You have 2 optional leaves remaining.'],\n",
              " ['Tell me my optional leave balance?',\n",
              "  'Balance-Optional-Leaves',\n",
              "  'You have 2 optional leaves remaining.'],\n",
              " ['Tell me my optional leaves left?',\n",
              "  'Balance-Optional-Leaves',\n",
              "  'You have 2 optional leaves remaining.'],\n",
              " ['How many optional leaves can I take?',\n",
              "  'Balance-Optional-Leaves',\n",
              "  'You have 2 optional leaves remaining.'],\n",
              " ['optional leaves take?',\n",
              "  'Balance-Optional-Leaves',\n",
              "  'You have 2 optional leaves remaining.'],\n",
              " ['How many optional leaves I have?',\n",
              "  'Balance-Optional-Leaves',\n",
              "  'You have 2 optional leaves remaining.'],\n",
              " ['Tell me my optional leave balance.',\n",
              "  'Balance-Optional-Leaves',\n",
              "  'You have 2 optional leaves remaining.'],\n",
              " ['tell me the optional leaves count I have remaining',\n",
              "  'Balance-Optional-Leaves',\n",
              "  'You have 2 optional leaves remaining.'],\n",
              " ['optional leaves.',\n",
              "  'Balance-Optional-Leaves',\n",
              "  'You have 2 optional leaves remaining.'],\n",
              " ['optional leaves?',\n",
              "  'Balance-Optional-Leaves',\n",
              "  'You have 2 optional leaves remaining.'],\n",
              " ['optional leave balance',\n",
              "  'Balance-Optional-Leaves',\n",
              "  'You have 2 optional leaves remaining.'],\n",
              " ['optional',\n",
              "  'Balance-Optional-Leaves',\n",
              "  'You have 2 optional leaves remaining.'],\n",
              " ['Tell me the optional leaves count I have remaining.',\n",
              "  'Balance-Optional-Leaves',\n",
              "  'You have 2 optional leaves remaining.'],\n",
              " ['the optional leaves count I have remaining?',\n",
              "  'Balance-Optional-Leaves',\n",
              "  'You have 2 optional leaves remaining.'],\n",
              " ['my optional leaves count remaining.',\n",
              "  'Balance-Optional-Leaves',\n",
              "  'You have 2 optional leaves remaining.'],\n",
              " ['please tell me number of optional leaves I have remaining',\n",
              "  'Balance-Optional-Leaves',\n",
              "  'You have 2 optional leaves remaining.'],\n",
              " ['please tell me number of optional leaves I have remaining.',\n",
              "  'Balance-Optional-Leaves',\n",
              "  'You have 2 optional leaves remaining.'],\n",
              " ['number of optional leaves I have remaining.',\n",
              "  'Balance-Optional-Leaves',\n",
              "  'You have 2 optional leaves remaining.'],\n",
              " ['number of optional leaves I have',\n",
              "  'Balance-Optional-Leaves',\n",
              "  'You have 2 optional leaves remaining.'],\n",
              " ['number of optional leaves?',\n",
              "  'Balance-Optional-Leaves',\n",
              "  'You have 2 optional leaves remaining.'],\n",
              " ['How many carry forward leaves do I have?',\n",
              "  'CF',\n",
              "  'You have 30 carry forward leaves.'],\n",
              " ['number of carry forward leaves I have?',\n",
              "  'CF',\n",
              "  'You have 30 carry forward leaves.'],\n",
              " ['tell me the carry forward leaves count I have',\n",
              "  'CF',\n",
              "  'You have 30 carry forward leaves.'],\n",
              " ['tell me number of carry forward leaves I have',\n",
              "  'CF',\n",
              "  'You have 30 carry forward leaves.'],\n",
              " ['can you tell me number of carry forward leaves I have',\n",
              "  'CF',\n",
              "  'You have 30 carry forward leaves.'],\n",
              " ['please tell me number of carry forward leaves I have',\n",
              "  'CF',\n",
              "  'You have 30 carry forward leaves.'],\n",
              " ['How many carry forwards do I have from previous year?',\n",
              "  'CF',\n",
              "  'You have 30 carry forward leaves.'],\n",
              " ['Tell me my carry forward leaves from previous year',\n",
              "  'CF',\n",
              "  'You have 30 carry forward leaves.'],\n",
              " ['Tell me my carry forward leaves',\n",
              "  'CF',\n",
              "  'You have 30 carry forward leaves.'],\n",
              " ['Tell me carry forward leaves', 'CF', 'You have 30 carry forward leaves.'],\n",
              " ['carry forward leaves', 'CF', 'You have 30 carry forward leaves.'],\n",
              " ['carry forward leave', 'CF', 'You have 30 carry forward leaves.'],\n",
              " ['carry forward', 'CF', 'You have 30 carry forward leaves.'],\n",
              " ['previous year carry forward leaves',\n",
              "  'CF',\n",
              "  'You have 30 carry forward leaves.']]"
            ]
          },
          "metadata": {
            "tags": []
          },
          "execution_count": 42
        }
      ]
    },
    {
      "cell_type": "code",
      "metadata": {
        "id": "Mec9ke3U8Wpx"
      },
      "source": [
        "features_data, corpus, answers = extract_feature_from_doc(data)"
      ],
      "execution_count": null,
      "outputs": []
    },
    {
      "cell_type": "code",
      "metadata": {
        "id": "YocbuEap8Wp2",
        "colab": {
          "base_uri": "https://localhost:8080/"
        },
        "outputId": "bf2fb57a-d335-40ab-d6b9-c6e5a14b3829"
      },
      "source": [
        "print(features_data[50])"
      ],
      "execution_count": null,
      "outputs": [
        {
          "output_type": "stream",
          "text": [
            "({'mani': True, 'option': True, 'leav': True}, 'Utilized-Optional-Leaves')\n"
          ],
          "name": "stdout"
        }
      ]
    },
    {
      "cell_type": "code",
      "metadata": {
        "id": "BmvhlDpV8Wp8",
        "colab": {
          "base_uri": "https://localhost:8080/"
        },
        "outputId": "9ba83f8b-83a8-4d4c-c474-bc789f19a117"
      },
      "source": [
        "corpus"
      ],
      "execution_count": null,
      "outputs": [
        {
          "output_type": "execute_result",
          "data": {
            "text/plain": [
              "['hello',\n",
              " 'hi',\n",
              " 'hello',\n",
              " 'hi',\n",
              " 'hi',\n",
              " 'hi',\n",
              " 'hey',\n",
              " 'hello',\n",
              " 'hi',\n",
              " 'hey',\n",
              " 'hey',\n",
              " 'hi',\n",
              " 'hey',\n",
              " 'hello',\n",
              " 'good',\n",
              " 'morn',\n",
              " 'good',\n",
              " 'afternoon',\n",
              " 'good',\n",
              " 'even',\n",
              " 'good',\n",
              " 'night',\n",
              " 'today',\n",
              " 'want',\n",
              " 'help',\n",
              " 'need',\n",
              " 'help',\n",
              " 'help',\n",
              " 'want',\n",
              " 'help',\n",
              " 'want',\n",
              " 'assist',\n",
              " 'help',\n",
              " 'great',\n",
              " 'talk',\n",
              " 'great',\n",
              " 'thank',\n",
              " 'help',\n",
              " 'thank',\n",
              " 'thank',\n",
              " 'much',\n",
              " 'thank',\n",
              " 'thank',\n",
              " 'much',\n",
              " 'mani',\n",
              " 'type',\n",
              " 'leav',\n",
              " 'type',\n",
              " 'leav',\n",
              " 'type',\n",
              " 'leav',\n",
              " 'type',\n",
              " 'leav',\n",
              " 'type',\n",
              " 'mani',\n",
              " 'leav',\n",
              " 'taken',\n",
              " 'mani',\n",
              " 'leav',\n",
              " 'alreadi',\n",
              " 'taken',\n",
              " 'mani',\n",
              " 'annual',\n",
              " 'leav',\n",
              " 'mani',\n",
              " 'annual',\n",
              " 'leav',\n",
              " 'taken',\n",
              " 'mani',\n",
              " 'annual',\n",
              " 'leav',\n",
              " 'alreadi',\n",
              " 'taken',\n",
              " 'annual',\n",
              " 'leav',\n",
              " 'count',\n",
              " 'taken',\n",
              " 'mani',\n",
              " 'annual',\n",
              " 'leav',\n",
              " 'taken',\n",
              " 'number',\n",
              " 'annual',\n",
              " 'leav',\n",
              " 'taken',\n",
              " 'annual',\n",
              " 'leav',\n",
              " 'taken',\n",
              " 'number',\n",
              " 'annual',\n",
              " 'leav',\n",
              " 'alreadi',\n",
              " 'taken',\n",
              " 'annual',\n",
              " 'leav',\n",
              " 'taken',\n",
              " 'annual',\n",
              " 'leav',\n",
              " 'alreadi',\n",
              " 'taken',\n",
              " 'number',\n",
              " 'annual',\n",
              " 'leav',\n",
              " 'taken',\n",
              " 'number',\n",
              " 'annual',\n",
              " 'leav',\n",
              " 'taken',\n",
              " 'annual',\n",
              " 'leav',\n",
              " 'annual',\n",
              " 'leav',\n",
              " 'mani',\n",
              " 'option',\n",
              " 'leav',\n",
              " 'taken',\n",
              " 'mani',\n",
              " 'option',\n",
              " 'leav',\n",
              " 'option',\n",
              " 'leav',\n",
              " 'taken',\n",
              " 'number',\n",
              " 'option',\n",
              " 'leav',\n",
              " 'taken',\n",
              " 'option',\n",
              " 'leav',\n",
              " 'count',\n",
              " 'taken',\n",
              " 'number',\n",
              " 'option',\n",
              " 'leav',\n",
              " 'taken',\n",
              " 'number',\n",
              " 'option',\n",
              " 'leav',\n",
              " 'taken',\n",
              " 'number',\n",
              " 'option',\n",
              " 'leav',\n",
              " 'taken',\n",
              " 'mani',\n",
              " 'option',\n",
              " 'leav',\n",
              " 'taken',\n",
              " 'number',\n",
              " 'option',\n",
              " 'leav',\n",
              " 'taken',\n",
              " 'number',\n",
              " 'option',\n",
              " 'leav',\n",
              " 'alreadi',\n",
              " 'taken',\n",
              " 'option',\n",
              " 'leav',\n",
              " 'taken',\n",
              " 'option',\n",
              " 'leav',\n",
              " 'alreadi',\n",
              " 'taken',\n",
              " 'number',\n",
              " 'option',\n",
              " 'leav',\n",
              " 'number',\n",
              " 'option',\n",
              " 'leav',\n",
              " 'option',\n",
              " 'leav',\n",
              " 'count',\n",
              " 'use',\n",
              " 'option',\n",
              " 'leav',\n",
              " 'count',\n",
              " 'use',\n",
              " 'option',\n",
              " 'leav',\n",
              " 'count',\n",
              " 'use',\n",
              " 'option',\n",
              " 'leav',\n",
              " 'count',\n",
              " 'use',\n",
              " 'option',\n",
              " 'leav',\n",
              " 'count',\n",
              " 'taken',\n",
              " 'option',\n",
              " 'leav',\n",
              " 'count',\n",
              " 'taken',\n",
              " 'option',\n",
              " 'leav',\n",
              " 'count',\n",
              " 'taken',\n",
              " 'mani',\n",
              " 'option',\n",
              " 'leav',\n",
              " 'mani',\n",
              " 'option',\n",
              " 'leav',\n",
              " 'number',\n",
              " 'option',\n",
              " 'leav',\n",
              " 'option',\n",
              " 'leav',\n",
              " 'mani',\n",
              " 'leav',\n",
              " 'mani',\n",
              " 'leav',\n",
              " 'take',\n",
              " 'mani',\n",
              " 'leav',\n",
              " 'remain',\n",
              " 'remain',\n",
              " 'leav',\n",
              " 'leav',\n",
              " 'tell',\n",
              " 'leav',\n",
              " 'balanc',\n",
              " 'remain',\n",
              " 'leav',\n",
              " 'leav',\n",
              " 'balanc',\n",
              " 'leav',\n",
              " 'pend',\n",
              " 'annual',\n",
              " 'leav',\n",
              " 'count',\n",
              " 'remain',\n",
              " 'mani',\n",
              " 'annual',\n",
              " 'leav',\n",
              " 'annual',\n",
              " 'leav',\n",
              " 'annual',\n",
              " 'leav',\n",
              " 'balanc',\n",
              " 'annual',\n",
              " 'leav',\n",
              " 'mani',\n",
              " 'annual',\n",
              " 'leav',\n",
              " 'remain',\n",
              " 'annual',\n",
              " 'leav',\n",
              " 'remain',\n",
              " 'remain',\n",
              " 'annual',\n",
              " 'leav',\n",
              " 'annual',\n",
              " 'leav',\n",
              " 'remain',\n",
              " 'number',\n",
              " 'annual',\n",
              " 'leav',\n",
              " 'remain',\n",
              " 'number',\n",
              " 'annual',\n",
              " 'leav',\n",
              " 'annual',\n",
              " 'leav',\n",
              " 'remain',\n",
              " 'annual',\n",
              " 'leav',\n",
              " 'count',\n",
              " 'remain',\n",
              " 'annual',\n",
              " 'leav',\n",
              " 'count',\n",
              " 'remain',\n",
              " 'annual',\n",
              " 'leav',\n",
              " 'count',\n",
              " 'remain',\n",
              " 'annual',\n",
              " 'leav',\n",
              " 'count',\n",
              " 'remain',\n",
              " 'annual',\n",
              " 'leav',\n",
              " 'balanc',\n",
              " 'annual',\n",
              " 'leav',\n",
              " 'balanc',\n",
              " 'annual',\n",
              " 'leav',\n",
              " 'number',\n",
              " 'annual',\n",
              " 'leav',\n",
              " 'remain',\n",
              " 'number',\n",
              " 'annual',\n",
              " 'leav',\n",
              " 'remain',\n",
              " 'mani',\n",
              " 'option',\n",
              " 'leav',\n",
              " 'remain',\n",
              " 'option',\n",
              " 'leav',\n",
              " 'remain',\n",
              " 'number',\n",
              " 'option',\n",
              " 'leav',\n",
              " 'remain',\n",
              " 'mani',\n",
              " 'option',\n",
              " 'leav',\n",
              " 'mani',\n",
              " 'option',\n",
              " 'leav',\n",
              " 'option',\n",
              " 'leav',\n",
              " 'balanc',\n",
              " 'option',\n",
              " 'leav',\n",
              " 'mani',\n",
              " 'option',\n",
              " 'leav',\n",
              " 'take',\n",
              " 'option',\n",
              " 'leav',\n",
              " 'take',\n",
              " 'mani',\n",
              " 'option',\n",
              " 'leav',\n",
              " 'option',\n",
              " 'leav',\n",
              " 'balanc',\n",
              " 'option',\n",
              " 'leav',\n",
              " 'count',\n",
              " 'remain',\n",
              " 'option',\n",
              " 'leav',\n",
              " 'option',\n",
              " 'leav',\n",
              " 'option',\n",
              " 'leav',\n",
              " 'balanc',\n",
              " 'option',\n",
              " 'option',\n",
              " 'leav',\n",
              " 'count',\n",
              " 'remain',\n",
              " 'option',\n",
              " 'leav',\n",
              " 'count',\n",
              " 'remain',\n",
              " 'option',\n",
              " 'leav',\n",
              " 'count',\n",
              " 'remain',\n",
              " 'number',\n",
              " 'option',\n",
              " 'leav',\n",
              " 'remain',\n",
              " 'number',\n",
              " 'option',\n",
              " 'leav',\n",
              " 'remain',\n",
              " 'number',\n",
              " 'option',\n",
              " 'leav',\n",
              " 'remain',\n",
              " 'number',\n",
              " 'option',\n",
              " 'leav',\n",
              " 'number',\n",
              " 'option',\n",
              " 'leav',\n",
              " 'mani',\n",
              " 'carri',\n",
              " 'forward',\n",
              " 'leav',\n",
              " 'number',\n",
              " 'carri',\n",
              " 'forward',\n",
              " 'leav',\n",
              " 'tell',\n",
              " 'carri',\n",
              " 'forward',\n",
              " 'leav',\n",
              " 'count',\n",
              " 'number',\n",
              " 'forward',\n",
              " 'leav',\n",
              " 'number',\n",
              " 'forward',\n",
              " 'leav',\n",
              " 'number',\n",
              " 'forward',\n",
              " 'leav',\n",
              " 'mani',\n",
              " 'carri',\n",
              " 'forward',\n",
              " 'previous',\n",
              " 'year',\n",
              " 'tell',\n",
              " 'carri',\n",
              " 'forward',\n",
              " 'leav',\n",
              " 'previous',\n",
              " 'year',\n",
              " 'tell',\n",
              " 'carri',\n",
              " 'forward',\n",
              " 'leav',\n",
              " 'tell',\n",
              " 'carri',\n",
              " 'forward',\n",
              " 'leav',\n",
              " 'forward',\n",
              " 'leav',\n",
              " 'carri',\n",
              " 'forward',\n",
              " 'leav',\n",
              " 'carri',\n",
              " 'forward',\n",
              " 'previous',\n",
              " 'year',\n",
              " 'carri',\n",
              " 'forward',\n",
              " 'leav']"
            ]
          },
          "metadata": {
            "tags": []
          },
          "execution_count": 45
        }
      ]
    },
    {
      "cell_type": "code",
      "metadata": {
        "id": "_cW2UHAZ8WqD",
        "colab": {
          "base_uri": "https://localhost:8080/"
        },
        "outputId": "30f847db-e040-4ec8-cc77-33760ecb9faa"
      },
      "source": [
        "answers"
      ],
      "execution_count": null,
      "outputs": [
        {
          "output_type": "execute_result",
          "data": {
            "text/plain": [
              "{'Afternoon': 'Good afternoon. I am Dexter. I will serve your leave enquiries.',\n",
              " 'Balance-Annual-Leaves': 'You have 25 annual leaves remaining.',\n",
              " 'Balance-Optional-Leaves': 'You have 2 optional leaves remaining.',\n",
              " 'CF': 'You have 30 carry forward leaves.',\n",
              " 'Closing': \"It's glad to know that I have been helpful. Have a good day!\",\n",
              " 'Default-Balance-Annual-Leaves': 'You have 25 annual leaves left.',\n",
              " 'Default-Utilized-Annual-Leaves': 'You have used 12 annual leaves.',\n",
              " 'Evening': 'Good evening. I am Dexter. I will serve your leave enquiries.',\n",
              " 'Goodbye': 'Good night. Take care.',\n",
              " 'Greetings': 'Hello. I am Dexter. I will serve your leave enquiries.',\n",
              " 'Help': 'How can I help you?',\n",
              " 'Leaves-Type': 'Currently I know about two: annual and optional leaves.',\n",
              " 'Morning': 'Good Morning. I am Dexter. I will serve your leave enquiries.',\n",
              " 'No-Help': 'Ok sir/madam. No problem. Have a nice day.',\n",
              " 'Opening': \"I'm fine! Thank you. How can I help you?\",\n",
              " 'Utilized-Annual-Leaves': 'You have taken 12 annual leaves.',\n",
              " 'Utilized-Optional-Leaves': 'You have taken 1 optional leaves.'}"
            ]
          },
          "metadata": {
            "tags": []
          },
          "execution_count": 46
        }
      ]
    },
    {
      "cell_type": "markdown",
      "metadata": {
        "id": "V46dHSxR8WqQ"
      },
      "source": [
        "# Train a model using these fetures"
      ]
    },
    {
      "cell_type": "code",
      "metadata": {
        "id": "mzKNvxr78WqR"
      },
      "source": [
        "## split data into train and test sets\n",
        "split_ratio = 0.8"
      ],
      "execution_count": null,
      "outputs": []
    },
    {
      "cell_type": "code",
      "metadata": {
        "id": "v8JYa6kr8WqW"
      },
      "source": [
        "def split_dataset(data, split_ratio):\n",
        "    random.shuffle(data)\n",
        "    data_length = len(data)\n",
        "    train_split = int(data_length * split_ratio)\n",
        "    return (data[:train_split]), (data[train_split:])"
      ],
      "execution_count": null,
      "outputs": []
    },
    {
      "cell_type": "code",
      "metadata": {
        "id": "RpcbMfzi8Wqe"
      },
      "source": [
        "training_data, test_data = split_dataset(features_data, split_ratio)"
      ],
      "execution_count": null,
      "outputs": []
    },
    {
      "cell_type": "code",
      "metadata": {
        "id": "rGItzHwj8Wqk",
        "colab": {
          "base_uri": "https://localhost:8080/"
        },
        "outputId": "876c78cf-5ec0-4c5e-bdb2-2133a319f75e"
      },
      "source": [
        "training_data"
      ],
      "execution_count": null,
      "outputs": [
        {
          "output_type": "execute_result",
          "data": {
            "text/plain": [
              "[({'count': True, 'leav': True, 'option': True, 'remain': True},\n",
              "  'Balance-Optional-Leaves'),\n",
              " ({'hi': True}, 'Greetings'),\n",
              " ({'forward': True, 'leav': True, 'number': True}, 'CF'),\n",
              " ({'alreadi': True,\n",
              "   'annual': True,\n",
              "   'leav': True,\n",
              "   'number': True,\n",
              "   'taken': True},\n",
              "  'Utilized-Annual-Leaves'),\n",
              " ({'carri': True, 'forward': True, 'leav': True, 'mani': True}, 'CF'),\n",
              " ({'annual': True, 'count': True, 'leav': True, 'remain': True},\n",
              "  'Balance-Annual-Leaves'),\n",
              " ({'carri': True, 'forward': True}, 'CF'),\n",
              " ({'leav': True, 'number': True, 'option': True}, 'Balance-Optional-Leaves'),\n",
              " ({'alreadi': True,\n",
              "   'leav': True,\n",
              "   'number': True,\n",
              "   'option': True,\n",
              "   'taken': True},\n",
              "  'Utilized-Optional-Leaves'),\n",
              " ({'help': True, 'need': True}, 'Help'),\n",
              " ({'annual': True, 'count': True, 'leav': True, 'taken': True},\n",
              "  'Utilized-Annual-Leaves'),\n",
              " ({'leav': True, 'mani': True, 'type': True}, 'Leaves-Type'),\n",
              " ({'carri': True, 'forward': True, 'leav': True, 'tell': True}, 'CF'),\n",
              " ({'leav': True}, 'Default-Balance-Annual-Leaves'),\n",
              " ({'balanc': True, 'leav': True, 'option': True}, 'Balance-Optional-Leaves'),\n",
              " ({'carri': True,\n",
              "   'forward': True,\n",
              "   'leav': True,\n",
              "   'previous': True,\n",
              "   'year': True},\n",
              "  'CF'),\n",
              " ({'carri': True, 'forward': True, 'leav': True, 'number': True}, 'CF'),\n",
              " ({'count': True, 'leav': True, 'option': True, 'use': True},\n",
              "  'Utilized-Optional-Leaves'),\n",
              " ({'annual': True, 'leav': True, 'mani': True, 'taken': True},\n",
              "  'Utilized-Annual-Leaves'),\n",
              " ({'leav': True, 'number': True, 'option': True}, 'Balance-Optional-Leaves'),\n",
              " ({'leav': True, 'mani': True, 'option': True, 'take': True},\n",
              "  'Balance-Optional-Leaves'),\n",
              " ({'leav': True, 'number': True, 'option': True, 'remain': True},\n",
              "  'Balance-Optional-Leaves'),\n",
              " ({'carri': True, 'forward': True, 'leav': True, 'tell': True}, 'CF'),\n",
              " ({'count': True, 'leav': True, 'option': True, 'use': True},\n",
              "  'Utilized-Optional-Leaves'),\n",
              " ({'annual': True, 'leav': True, 'remain': True}, 'Balance-Annual-Leaves'),\n",
              " ({'alreadi': True, 'leav': True, 'mani': True, 'taken': True},\n",
              "  'Default-Utilized-Annual-Leaves'),\n",
              " ({'leav': True, 'mani': True, 'option': True}, 'Balance-Optional-Leaves'),\n",
              " ({'leav': True, 'number': True, 'option': True, 'taken': True},\n",
              "  'Utilized-Optional-Leaves'),\n",
              " ({'leav': True, 'number': True, 'option': True, 'remain': True},\n",
              "  'Balance-Optional-Leaves'),\n",
              " ({'type': True}, 'Leaves-Type'),\n",
              " ({'alreadi': True, 'leav': True, 'option': True, 'taken': True},\n",
              "  'Utilized-Optional-Leaves'),\n",
              " ({'good': True, 'night': True}, 'Goodbye'),\n",
              " ({'leav': True, 'mani': True}, 'Default-Balance-Annual-Leaves'),\n",
              " ({'leav': True, 'type': True}, 'Leaves-Type'),\n",
              " ({'annual': True, 'count': True, 'leav': True, 'remain': True},\n",
              "  'Balance-Annual-Leaves'),\n",
              " ({'annual': True, 'leav': True, 'mani': True}, 'Utilized-Annual-Leaves'),\n",
              " ({'leav': True, 'mani': True, 'option': True, 'taken': True},\n",
              "  'Utilized-Optional-Leaves'),\n",
              " ({'option': True}, 'Balance-Optional-Leaves'),\n",
              " ({'carri': True, 'forward': True, 'leav': True}, 'CF'),\n",
              " ({'leav': True, 'mani': True, 'remain': True},\n",
              "  'Default-Balance-Annual-Leaves'),\n",
              " ({'count': True, 'leav': True, 'option': True, 'use': True},\n",
              "  'Utilized-Optional-Leaves'),\n",
              " ({'balanc': True, 'leav': True, 'option': True}, 'Balance-Optional-Leaves'),\n",
              " ({'leav': True, 'number': True, 'option': True, 'remain': True},\n",
              "  'Balance-Optional-Leaves'),\n",
              " ({'leav': True, 'mani': True, 'option': True, 'remain': True},\n",
              "  'Balance-Optional-Leaves'),\n",
              " ({'much': True, 'thank': True}, 'Closing'),\n",
              " ({'annual': True, 'leav': True}, 'Balance-Annual-Leaves'),\n",
              " ({'count': True, 'leav': True, 'option': True, 'taken': True},\n",
              "  'Utilized-Optional-Leaves'),\n",
              " ({'leav': True, 'mani': True, 'option': True}, 'Utilized-Optional-Leaves'),\n",
              " ({'leav': True, 'option': True, 'remain': True}, 'Balance-Optional-Leaves'),\n",
              " ({'leav': True, 'mani': True, 'option': True, 'taken': True},\n",
              "  'Utilized-Optional-Leaves'),\n",
              " ({'leav': True, 'option': True, 'take': True}, 'Balance-Optional-Leaves'),\n",
              " ({'forward': True, 'leav': True, 'number': True}, 'CF'),\n",
              " ({'forward': True, 'leav': True, 'number': True}, 'CF'),\n",
              " ({'annual': True, 'balanc': True, 'leav': True}, 'Balance-Annual-Leaves'),\n",
              " ({'balanc': True, 'leav': True, 'tell': True},\n",
              "  'Default-Balance-Annual-Leaves'),\n",
              " ({'help': True, 'want': True}, 'No-Help'),\n",
              " ({'leav': True, 'mani': True, 'take': True}, 'Default-Balance-Annual-Leaves'),\n",
              " ({'hello': True, 'hey': True}, 'Greetings'),\n",
              " ({'leav': True, 'number': True, 'option': True, 'remain': True},\n",
              "  'Balance-Optional-Leaves'),\n",
              " ({'annual': True, 'leav': True, 'remain': True}, 'Balance-Annual-Leaves'),\n",
              " ({'annual': True, 'leav': True, 'remain': True}, 'Balance-Annual-Leaves'),\n",
              " ({'leav': True, 'type': True}, 'Leaves-Type'),\n",
              " ({'annual': True, 'leav': True, 'remain': True}, 'Balance-Annual-Leaves'),\n",
              " ({'annual': True, 'leav': True, 'mani': True, 'taken': True},\n",
              "  'Utilized-Annual-Leaves'),\n",
              " ({'annual': True, 'leav': True, 'mani': True, 'remain': True},\n",
              "  'Balance-Annual-Leaves'),\n",
              " ({'annual': True, 'leav': True, 'number': True, 'remain': True},\n",
              "  'Balance-Annual-Leaves'),\n",
              " ({'leav': True, 'type': True}, 'Leaves-Type'),\n",
              " ({'annual': True, 'balanc': True, 'leav': True}, 'Balance-Annual-Leaves'),\n",
              " ({'leav': True, 'remain': True}, 'Default-Balance-Annual-Leaves'),\n",
              " ({'leav': True, 'number': True, 'option': True, 'taken': True},\n",
              "  'Utilized-Optional-Leaves'),\n",
              " ({'hey': True}, 'Greetings'),\n",
              " ({'hello': True, 'hi': True}, 'Greetings'),\n",
              " ({'hi': True}, 'Greetings'),\n",
              " ({'afternoon': True, 'good': True}, 'Afternoon'),\n",
              " ({'hello': True, 'hi': True}, 'Greetings'),\n",
              " ({'count': True, 'leav': True, 'option': True, 'taken': True},\n",
              "  'Utilized-Optional-Leaves'),\n",
              " ({'annual': True, 'leav': True, 'taken': True}, 'Utilized-Annual-Leaves'),\n",
              " ({'annual': True, 'leav': True, 'number': True, 'taken': True},\n",
              "  'Utilized-Annual-Leaves'),\n",
              " ({'leav': True, 'option': True}, 'Balance-Optional-Leaves'),\n",
              " ({'count': True, 'leav': True, 'option': True, 'remain': True},\n",
              "  'Balance-Optional-Leaves'),\n",
              " ({'leav': True, 'option': True, 'taken': True}, 'Utilized-Optional-Leaves'),\n",
              " ({'leav': True, 'number': True, 'option': True}, 'Utilized-Optional-Leaves'),\n",
              " ({'carri': True,\n",
              "   'forward': True,\n",
              "   'leav': True,\n",
              "   'previous': True,\n",
              "   'tell': True,\n",
              "   'year': True},\n",
              "  'CF'),\n",
              " ({'annual': True, 'leav': True}, 'Balance-Annual-Leaves'),\n",
              " ({'great': True}, 'Closing'),\n",
              " ({'leav': True, 'mani': True, 'option': True}, 'Balance-Optional-Leaves'),\n",
              " ({'leav': True, 'option': True}, 'Utilized-Optional-Leaves'),\n",
              " ({'leav': True, 'mani': True, 'option': True}, 'Utilized-Optional-Leaves'),\n",
              " ({'forward': True, 'leav': True}, 'CF'),\n",
              " ({'leav': True, 'mani': True, 'option': True}, 'Balance-Optional-Leaves'),\n",
              " ({'hey': True}, 'Greetings'),\n",
              " ({'annual': True, 'leav': True, 'taken': True}, 'Utilized-Annual-Leaves'),\n",
              " ({'alreadi': True, 'annual': True, 'leav': True, 'taken': True},\n",
              "  'Utilized-Annual-Leaves'),\n",
              " ({'annual': True, 'leav': True, 'number': True}, 'Utilized-Annual-Leaves'),\n",
              " ({'leav': True, 'number': True, 'option': True}, 'Utilized-Optional-Leaves'),\n",
              " ({'hey': True, 'hi': True}, 'Greetings'),\n",
              " ({'leav': True, 'number': True, 'option': True, 'taken': True},\n",
              "  'Utilized-Optional-Leaves'),\n",
              " ({'help': True}, 'Help'),\n",
              " ({'annual': True, 'leav': True, 'taken': True}, 'Utilized-Annual-Leaves'),\n",
              " ({'thank': True}, 'Closing'),\n",
              " ({'leav': True, 'remain': True}, 'Default-Balance-Annual-Leaves'),\n",
              " ({'leav': True, 'option': True}, 'Balance-Optional-Leaves'),\n",
              " ({'assist': True, 'want': True}, 'No-Help'),\n",
              " ({'leav': True, 'number': True, 'option': True}, 'Utilized-Optional-Leaves'),\n",
              " ({'leav': True, 'number': True, 'option': True, 'taken': True},\n",
              "  'Utilized-Optional-Leaves'),\n",
              " ({'help': True}, 'No-Help'),\n",
              " ({'much': True, 'thank': True}, 'Closing'),\n",
              " ({'leav': True, 'option': True, 'taken': True}, 'Utilized-Optional-Leaves'),\n",
              " ({'count': True, 'leav': True, 'option': True, 'remain': True},\n",
              "  'Balance-Optional-Leaves'),\n",
              " ({'leav': True, 'mani': True, 'taken': True},\n",
              "  'Default-Utilized-Annual-Leaves'),\n",
              " ({'annual': True, 'leav': True, 'number': True, 'remain': True},\n",
              "  'Balance-Annual-Leaves'),\n",
              " ({'good': True, 'morn': True}, 'Morning'),\n",
              " ({'annual': True, 'leav': True, 'number': True, 'taken': True},\n",
              "  'Utilized-Annual-Leaves'),\n",
              " ({'hi': True}, 'Greetings')]"
            ]
          },
          "metadata": {
            "tags": []
          },
          "execution_count": 53
        }
      ]
    },
    {
      "cell_type": "code",
      "metadata": {
        "id": "FNInYejB8Wqr"
      },
      "source": [
        "# save the data\n",
        "np.save('training_data', training_data)\n",
        "np.save('test_data', test_data)"
      ],
      "execution_count": null,
      "outputs": []
    },
    {
      "cell_type": "markdown",
      "metadata": {
        "id": "A71fH1od8Wqx"
      },
      "source": [
        "## Classification using Decision tree"
      ]
    },
    {
      "cell_type": "code",
      "metadata": {
        "id": "5FkJdFRx8Wqz"
      },
      "source": [
        "training_data = np.load('training_data.npy', allow_pickle=True)\n",
        "test_data = np.load('test_data.npy', allow_pickle=True)"
      ],
      "execution_count": null,
      "outputs": []
    },
    {
      "cell_type": "code",
      "metadata": {
        "id": "YM-dpsGI8Wq4"
      },
      "source": [
        "def train_using_decision_tree(training_data, test_data):\n",
        "    \n",
        "    classifier = nltk.classify.DecisionTreeClassifier.train(training_data, entropy_cutoff=0.6, support_cutoff=6)\n",
        "    classifier_name = type(classifier).__name__\n",
        "    training_set_accuracy = nltk.classify.accuracy(classifier, training_data)\n",
        "    print('training set accuracy: ', training_set_accuracy)\n",
        "    test_set_accuracy = nltk.classify.accuracy(classifier, test_data)\n",
        "    print('test set accuracy: ', test_set_accuracy)\n",
        "    return classifier, classifier_name, test_set_accuracy, training_set_accuracy"
      ],
      "execution_count": null,
      "outputs": []
    },
    {
      "cell_type": "code",
      "metadata": {
        "id": "E-5VCvnB8Wq9",
        "colab": {
          "base_uri": "https://localhost:8080/"
        },
        "outputId": "dab71e1a-5dec-47c6-be04-4806224701f9"
      },
      "source": [
        "dtclassifier, classifier_name, test_set_accuracy, training_set_accuracy = train_using_decision_tree(training_data, test_data)"
      ],
      "execution_count": null,
      "outputs": [
        {
          "output_type": "stream",
          "text": [
            "training set accuracy:  0.8947368421052632\n",
            "test set accuracy:  0.7931034482758621\n"
          ],
          "name": "stdout"
        }
      ]
    },
    {
      "cell_type": "code",
      "metadata": {
        "id": "5qMXwaLA8WrG"
      },
      "source": [
        ""
      ],
      "execution_count": null,
      "outputs": []
    },
    {
      "cell_type": "markdown",
      "metadata": {
        "id": "T358b3Xj8WrM"
      },
      "source": [
        "## Classification using Naive Bayes"
      ]
    },
    {
      "cell_type": "code",
      "metadata": {
        "id": "KrEsjxAA8WrP"
      },
      "source": [
        "def train_using_naive_bayes(training_data, test_data):\n",
        "    classifier = nltk.NaiveBayesClassifier.train(training_data)\n",
        "    classifier_name = type(classifier).__name__\n",
        "    training_set_accuracy = nltk.classify.accuracy(classifier, training_data)\n",
        "    test_set_accuracy = nltk.classify.accuracy(classifier, test_data)\n",
        "    return classifier, classifier_name, test_set_accuracy, training_set_accuracy"
      ],
      "execution_count": null,
      "outputs": []
    },
    {
      "cell_type": "code",
      "metadata": {
        "id": "4UWeECRq8Wrc",
        "colab": {
          "base_uri": "https://localhost:8080/"
        },
        "outputId": "ff4522f9-3bbc-46de-e3d3-7ac195b06e31"
      },
      "source": [
        "classifier, classifier_name, test_set_accuracy, training_set_accuracy = train_using_naive_bayes(training_data, test_data)\n",
        "print(training_set_accuracy)\n",
        "print(test_set_accuracy)\n",
        "print(len(classifier.most_informative_features()))\n",
        "classifier.show_most_informative_features()"
      ],
      "execution_count": null,
      "outputs": [
        {
          "output_type": "stream",
          "text": [
            "0.8771929824561403\n",
            "0.6206896551724138\n",
            "64\n",
            "Most Informative Features\n",
            "                    leav = None           Greeti : Balanc =     13.9 : 1.0\n",
            "                    mani = True           Defaul : Balanc =      7.8 : 1.0\n",
            "                   taken = None           Balanc : Utiliz =      5.1 : 1.0\n",
            "                 alreadi = True           Defaul : Utiliz =      4.4 : 1.0\n",
            "                   thank = None           Utiliz : Closin =      3.3 : 1.0\n",
            "                  remain = None           Utiliz : Balanc =      3.0 : 1.0\n",
            "                   carri = None           Utiliz : CF     =      2.8 : 1.0\n",
            "                      hi = None           Utiliz : Greeti =      2.8 : 1.0\n",
            "                    help = None           Utiliz : No-Hel =      2.6 : 1.0\n",
            "                    want = None           Utiliz : No-Hel =      2.6 : 1.0\n"
          ],
          "name": "stdout"
        }
      ]
    },
    {
      "cell_type": "code",
      "metadata": {
        "id": "-TImcy8Y8Wrj",
        "colab": {
          "base_uri": "https://localhost:8080/",
          "height": 35
        },
        "outputId": "4431c3c0-cf14-49b0-f9f8-ed2fae3622d7"
      },
      "source": [
        "classifier.classify(({'mani': True, 'option': True, 'leav': True}))"
      ],
      "execution_count": null,
      "outputs": [
        {
          "output_type": "execute_result",
          "data": {
            "application/vnd.google.colaboratory.intrinsic+json": {
              "type": "string"
            },
            "text/plain": [
              "'Balance-Optional-Leaves'"
            ]
          },
          "metadata": {
            "tags": []
          },
          "execution_count": 63
        }
      ]
    },
    {
      "cell_type": "code",
      "metadata": {
        "id": "JnIL0Gx08Wrq"
      },
      "source": [
        ""
      ],
      "execution_count": null,
      "outputs": []
    },
    {
      "cell_type": "code",
      "metadata": {
        "id": "nX1JUmjL8Wrw",
        "colab": {
          "base_uri": "https://localhost:8080/"
        },
        "outputId": "99910010-78c3-4fed-c384-26c14e2c84a3"
      },
      "source": [
        "extract_feature(\"hello\")"
      ],
      "execution_count": null,
      "outputs": [
        {
          "output_type": "execute_result",
          "data": {
            "text/plain": [
              "['hello']"
            ]
          },
          "metadata": {
            "tags": []
          },
          "execution_count": 64
        }
      ]
    },
    {
      "cell_type": "code",
      "metadata": {
        "id": "cFZmznBr8Wr2",
        "colab": {
          "base_uri": "https://localhost:8080/"
        },
        "outputId": "2fc4135f-9fe4-4dfb-df2e-6b8aec82bb8b"
      },
      "source": [
        "word_feats(extract_feature(\"hello\"))"
      ],
      "execution_count": null,
      "outputs": [
        {
          "output_type": "execute_result",
          "data": {
            "text/plain": [
              "{'hello': True}"
            ]
          },
          "metadata": {
            "tags": []
          },
          "execution_count": 65
        }
      ]
    },
    {
      "cell_type": "code",
      "metadata": {
        "id": "Or2U7WRf8Wr8",
        "colab": {
          "base_uri": "https://localhost:8080/",
          "height": 35
        },
        "outputId": "6d540c0b-81fb-491e-baf0-fde93f8f4c28"
      },
      "source": [
        "input_sentence = \"how many balanced leaves do I have?\"\n",
        "classifier.classify(word_feats(extract_feature(input_sentence)))"
      ],
      "execution_count": null,
      "outputs": [
        {
          "output_type": "execute_result",
          "data": {
            "application/vnd.google.colaboratory.intrinsic+json": {
              "type": "string"
            },
            "text/plain": [
              "'Balance-Optional-Leaves'"
            ]
          },
          "metadata": {
            "tags": []
          },
          "execution_count": 66
        }
      ]
    },
    {
      "cell_type": "code",
      "metadata": {
        "id": "urT_PBvn8WsC"
      },
      "source": [
        ""
      ],
      "execution_count": null,
      "outputs": []
    },
    {
      "cell_type": "code",
      "metadata": {
        "id": "NTHtt8At8WsI"
      },
      "source": [
        "def reply(input_sentence):\n",
        "    category = dtclassifier.classify(word_feats(extract_feature(input_sentence)))\n",
        "    return answers[category]\n",
        "    \n",
        "    "
      ],
      "execution_count": null,
      "outputs": []
    },
    {
      "cell_type": "code",
      "metadata": {
        "id": "0N4ymgEq8WsQ",
        "colab": {
          "base_uri": "https://localhost:8080/",
          "height": 35
        },
        "outputId": "462d024c-0cd8-4ae2-b18e-2f7f5fc665a6"
      },
      "source": [
        "reply('Hi')"
      ],
      "execution_count": null,
      "outputs": [
        {
          "output_type": "execute_result",
          "data": {
            "application/vnd.google.colaboratory.intrinsic+json": {
              "type": "string"
            },
            "text/plain": [
              "'Hello. I am Dexter. I will serve your leave enquiries.'"
            ]
          },
          "metadata": {
            "tags": []
          },
          "execution_count": 68
        }
      ]
    },
    {
      "cell_type": "code",
      "metadata": {
        "id": "iuiVQCqV8WsY",
        "colab": {
          "base_uri": "https://localhost:8080/",
          "height": 35
        },
        "outputId": "913c2869-6b91-42e1-9a09-7c94eb3cfe93"
      },
      "source": [
        "reply('How many annual leaves do I have left?')"
      ],
      "execution_count": null,
      "outputs": [
        {
          "output_type": "execute_result",
          "data": {
            "application/vnd.google.colaboratory.intrinsic+json": {
              "type": "string"
            },
            "text/plain": [
              "'You have 25 annual leaves remaining.'"
            ]
          },
          "metadata": {
            "tags": []
          },
          "execution_count": 69
        }
      ]
    },
    {
      "cell_type": "code",
      "metadata": {
        "id": "6gsBwYwo8Wsf",
        "colab": {
          "base_uri": "https://localhost:8080/",
          "height": 35
        },
        "outputId": "401b463e-4ef3-4bcd-99c3-f5aad7511f88"
      },
      "source": [
        "reply('How many leaves have I taken?')"
      ],
      "execution_count": null,
      "outputs": [
        {
          "output_type": "execute_result",
          "data": {
            "application/vnd.google.colaboratory.intrinsic+json": {
              "type": "string"
            },
            "text/plain": [
              "'You have taken 1 optional leaves.'"
            ]
          },
          "metadata": {
            "tags": []
          },
          "execution_count": 70
        }
      ]
    },
    {
      "cell_type": "code",
      "metadata": {
        "id": "N0bJg7v68Wsm",
        "colab": {
          "base_uri": "https://localhost:8080/",
          "height": 35
        },
        "outputId": "ee753b06-44e6-45aa-a868-9b78988d59d5"
      },
      "source": [
        "reply('Thanks!')"
      ],
      "execution_count": null,
      "outputs": [
        {
          "output_type": "execute_result",
          "data": {
            "application/vnd.google.colaboratory.intrinsic+json": {
              "type": "string"
            },
            "text/plain": [
              "\"It's glad to know that I have been helpful. Have a good day!\""
            ]
          },
          "metadata": {
            "tags": []
          },
          "execution_count": 71
        }
      ]
    },
    {
      "cell_type": "code",
      "metadata": {
        "id": "CakVGx3u8Wss"
      },
      "source": [
        ""
      ],
      "execution_count": null,
      "outputs": []
    },
    {
      "cell_type": "code",
      "metadata": {
        "id": "vIrHHnVO8Wsx"
      },
      "source": [
        ""
      ],
      "execution_count": null,
      "outputs": []
    },
    {
      "cell_type": "code",
      "metadata": {
        "id": "0X0MbdGq8Ws3"
      },
      "source": [
        ""
      ],
      "execution_count": null,
      "outputs": []
    },
    {
      "cell_type": "markdown",
      "metadata": {
        "id": "veCC1UoE8Ws7"
      },
      "source": [
        "# Conclusion:"
      ]
    },
    {
      "cell_type": "markdown",
      "metadata": {
        "id": "kh8-Ouyc8Ws8"
      },
      "source": [
        "Once the model has been developed using an algorithm that gives an acceptable accuracy, this model can be called using to any chatbot UI framework"
      ]
    },
    {
      "cell_type": "code",
      "metadata": {
        "id": "iT2E4Czy8Ws9"
      },
      "source": [
        ""
      ],
      "execution_count": null,
      "outputs": []
    }
  ]
}